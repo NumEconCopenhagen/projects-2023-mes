{
 "cells": [
  {
   "attachments": {},
   "cell_type": "markdown",
   "metadata": {},
   "source": [
    "# Model Project - MES"
   ]
  },
  {
   "attachments": {},
   "cell_type": "markdown",
   "metadata": {},
   "source": [
    "Overview of all necessary packages to run the project."
   ]
  },
  {
   "cell_type": "code",
   "execution_count": 110,
   "metadata": {},
   "outputs": [
    {
     "name": "stdout",
     "output_type": "stream",
     "text": [
      "The autoreload extension is already loaded. To reload it, use:\n",
      "  %reload_ext autoreload\n"
     ]
    }
   ],
   "source": [
    "import numpy as np\n",
    "from scipy import optimize\n",
    "import sympy as sm\n",
    "import matplotlib.pyplot as plt\n",
    "from scipy.optimize import minimize\n",
    "from ipywidgets import interactive, fixed\n",
    "from scipy import optimize\n",
    "\n",
    "# autoreload modules when code is run\n",
    "%load_ext autoreload\n",
    "%autoreload 2\n",
    "\n",
    "# local modules\n",
    "from modelproject import RicardianModelClass"
   ]
  },
  {
   "attachments": {},
   "cell_type": "markdown",
   "metadata": {},
   "source": [
    "# Ricardian Model - General Assumptions"
   ]
  },
  {
   "attachments": {},
   "cell_type": "markdown",
   "metadata": {},
   "source": [
    "The Ricardian Model of International Trade is a theory that explains how gains from trade develop, after the included countries open up to trade. \n",
    "\n",
    "The Assumptions of the Ricardian Model:\n",
    "\n",
    "The basic version assumes two countries, which both produce two goods. Both goods are different from each other, but all countries produce exactly the same type of each good. Labor is the only necessary input for production. Labor is homogeneous in a given country, but labor productivity varies between countries. Additionally, labor is assumed to be mobile across industries in a country, but not across countries. The model assumes perfect competition on both markets for all countries. There are no transportation costs within and between countries. Households provide labor force and consume the produced goods.\n",
    "\n",
    "The outcome of the Model:\n",
    "\n",
    "Households maximize their utility function subject to a budget constraint that depends on income, wages and prices. Under autarky, the equilibrium consists of the optimal consumption levels and the resulting utility, which is calculated for all countries individually. Afterwards, all countries open up to trade. Again, the individual consumption levels and utility are calculated for households in all countries. Gains from trade are visualised by the differences in utility between the trade and autarky equilibrium."
   ]
  },
  {
   "attachments": {},
   "cell_type": "markdown",
   "metadata": {},
   "source": [
    "The model setup:\n",
    "\n",
    "Suppose there are two countries, Denmark and Germany. Both countries produce two goods each, beer ($y_1$) and pharmaceuticals ($y_2$). Labor is the only necessary input for production. $L_i$ denotes labor employed, $a_i$ the respective productivity in sector $i = 1,2$. The given industries use the total available labor $L$ in each country and linear production technologies are given by:\n",
    "\n",
    "$$\n",
    "y_1 = a_1 L_1  \\; and \\; y_2 = a_2 L_2\n",
    "$$\n",
    "\n",
    "$$\n",
    "L_1 + L_2 = L\n",
    "$$\n",
    "\n",
    "Workers are assumed to be perfectly mobile between industries, but not across countries. While labor is assumed to be homogeneous, labor productivity can vary between countries. Thus, the following inequality determines differences in productivity:\n",
    "\n",
    "$$\n",
    "\\frac{a_1^{G}}{a_2^{G}} > \\frac{a^{DK}_1}{a^{DK}_2}\n",
    "$$\n",
    "\n",
    "In this case, Germany is relatively more productive in the production of good 1, while Denmark is relatively more productive in the production of good two. The autarky price for an individual country is given as \n",
    "\n",
    "$$\n",
    "p^a = \\frac{a_2}{a_1}\n",
    "$$\n",
    "\n",
    "Each country is inhabited by a representative consumer with the following Cobb-Douglas utility function:\n",
    "\n",
    "$$\n",
    "U(c_1, c_2) = c_1^{\\alpha}  c_2^{1-\\alpha}\n",
    "$$\n",
    "\n",
    "where $c_1$ and $c_2$ denote consumption of each respective goods. Consumers are financially constrained by the income $I$ they earn. This income is determined by their wage $w$ and the amount of labor they provide. The model assumes income to be fully used for the consumption of goods:\n",
    "\n",
    "$$\n",
    "I = wL = py_1 + y_2\n",
    "$$\n",
    "\n",
    "The price of $y_2$ is normalized to 1 and same goes for Labour L.\n",
    "\n",
    "\n"
   ]
  },
  {
   "attachments": {},
   "cell_type": "markdown",
   "metadata": {},
   "source": [
    "## Analytical solution"
   ]
  },
  {
   "attachments": {},
   "cell_type": "markdown",
   "metadata": {},
   "source": [
    "The Ricardian Model of International Trade is a general equilibrium model. \n",
    "First, we analytically solve the consumption problem under autaky, by deriving the optimal consumption amounts for both goods. \n",
    "\n",
    "After opening up to trade, the world price level applies to both countries instead of the autarky price level. The relationship between autarky and world price level determines the specialisation behavior for each country. The world price has to be in between the individual autarky price ratios."
   ]
  },
  {
   "cell_type": "code",
   "execution_count": 111,
   "metadata": {},
   "outputs": [],
   "source": [
    "# Step 1: Creating symbols for the relevant variables for sympy\n",
    "c1 = sm.symbols('c1')\n",
    "c2 = sm.symbols('c2')\n",
    "alpha = sm.symbols('alpha')\n",
    "p = sm.symbols('p')\n",
    "I = sm.symbols('I')\n",
    "a1 = sm.symbols('a1')\n",
    "a2 = sm.symbols('a2')\n",
    "L = sm.symbols('L')\n",
    "a_2 = sm.symbols('a2s')\n",
    "L_ = sm.symbols('Ls')\n",
    "mu = sm.symbols('mu')\n",
    "U = sm.symbols('U')\n",
    "p = sm.symbols('p')\n",
    "w = sm.symbols('w') "
   ]
  },
  {
   "cell_type": "code",
   "execution_count": 112,
   "metadata": {},
   "outputs": [
    {
     "name": "stdout",
     "output_type": "stream",
     "text": [
      "The Utility function for both countries is : \n"
     ]
    },
    {
     "data": {
      "text/latex": [
       "$\\displaystyle U = c_{1}^{\\alpha} c_{2}^{1 - \\alpha}$"
      ],
      "text/plain": [
       "Eq(U, c1**alpha*c2**(1 - alpha))"
      ]
     },
     "metadata": {},
     "output_type": "display_data"
    },
    {
     "name": "stdout",
     "output_type": "stream",
     "text": [
      "The optimal level of c1 under autarky is : \n"
     ]
    },
    {
     "data": {
      "text/latex": [
       "$\\displaystyle c_{1} = \\frac{I \\alpha}{p}$"
      ],
      "text/plain": [
       "Eq(c1, I*alpha/p)"
      ]
     },
     "metadata": {},
     "output_type": "display_data"
    },
    {
     "name": "stdout",
     "output_type": "stream",
     "text": [
      "The optimal level of c2 under autarky is : \n"
     ]
    },
    {
     "data": {
      "text/latex": [
       "$\\displaystyle c_{2} = I \\left(1 - \\alpha\\right)$"
      ],
      "text/plain": [
       "Eq(c2, I*(1 - alpha))"
      ]
     },
     "metadata": {},
     "output_type": "display_data"
    },
    {
     "name": "stdout",
     "output_type": "stream",
     "text": [
      " The world price under trade is: \n"
     ]
    },
    {
     "data": {
      "text/latex": [
       "$\\displaystyle p^{w} = \\frac{\\alpha \\left(L a_{1} + Ls a2s\\right)}{L a_{1} - \\alpha}$"
      ],
      "text/plain": [
       "Eq(p**w, alpha*(L*a1 + Ls*a2s)/(L*a1 - alpha))"
      ]
     },
     "metadata": {},
     "output_type": "display_data"
    }
   ],
   "source": [
    "# Step 2: Defining the Utility function\n",
    "print('The Utility function for both countries is : ')\n",
    "objective = c1**(alpha) * c2**(1-alpha)\n",
    "objective_print = sm.Eq(U, objective)\n",
    "display(objective_print)\n",
    "\n",
    "# Step 3: Optimal c1 under autarky \n",
    "budget_constraint = sm.Eq(p*c1 + c2, I)\n",
    "\n",
    "# A. Isolate\n",
    "c2_from_con = sm.solve(budget_constraint, c2)\n",
    "\n",
    "# B. Substitute\n",
    "objective_subs_c1 = objective.subs(c2, c2_from_con[0])\n",
    "\n",
    "# C. FOC\n",
    "foc_c1 = sm.diff(objective_subs_c1, c1)\n",
    "\n",
    "# D. Solve\n",
    "print('The optimal level of c1 under autarky is : ')\n",
    "sol_c1 = sm.solve(sm.Eq(foc_c1,0), c1)\n",
    "c1_eq = sm.Eq(c1, sol_c1[0])\n",
    "display(c1_eq)\n",
    "\n",
    "# Step 4: Optimal c2 under autarky\n",
    "\n",
    "# A. Isolate\n",
    "c1_from_con = sm.solve(budget_constraint, c1)\n",
    "\n",
    "# B. Substitute\n",
    "objective_subs_c2 = objective.subs(c1, c1_from_con[0])\n",
    "\n",
    "# C. FOC\n",
    "foc_c2 = sm.diff(objective_subs_c2, c2)\n",
    "\n",
    "# D. Solve\n",
    "print('The optimal level of c2 under autarky is : ')\n",
    "sol_c2 = sm.solve(sm.Eq(foc_c2,0), c2)\n",
    "c2_eq = sm.Eq(c2, sol_c2[0])\n",
    "display(c2_eq)\n",
    "\n",
    "# Step 5: Solving for the world price under trade\n",
    "opt_c1 = sm.Eq(c1, sol_c1[0])\n",
    "opt_c1 = sm.solve(opt_c1, I)\n",
    "\n",
    "opt_c2 = sm.Eq(c2, sol_c2[0])\n",
    "opt_c2 = sm.solve(opt_c2, I)\n",
    "\n",
    "# A. solve for p\n",
    "x = sm.Eq(opt_c1[0], opt_c2[0])\n",
    "sol_p = sm.solve(x, p)\n",
    "\n",
    "# B. Marshallian demand to get c1\n",
    "marshall_c2 = sm.solve(x, c2)\n",
    "\n",
    "# C. Insert into the budget constraint\n",
    "budget_constraint_marsh_c1 = sm.Eq(p*c1 + marshall_c2[0], I)\n",
    "\n",
    "# D. Solve for c1\n",
    "c1_marsh = sm.solve(budget_constraint_marsh_c1, c1)\n",
    "\n",
    "# E. Marshallian demand to get c2\n",
    "marshall_c1 = sm.solve(x, c1)\n",
    "\n",
    "# F. Insert into the budget constraint\n",
    "budget_constraint_marsh_c2 = sm.Eq(p * marshall_c1[0] + c2, I)\n",
    "\n",
    "# G. Solve for c1\n",
    "c2_marsh = sm.solve(budget_constraint_marsh_c2, c2)\n",
    "\n",
    "# H. World demand for good 1 \n",
    "world_sup = sm.Eq(((p + a1 * L) * alpha)/p + (a_2 * L_) * alpha/p, a1 * L)\n",
    "\n",
    "# I. Solve for the world price\n",
    "print(' The world price under trade is: ')\n",
    "world_p = sm.solve(world_sup, p)\n",
    "pw_eq = sm.Eq(p**w, world_p[0])\n",
    "display(pw_eq)"
   ]
  },
  {
   "attachments": {},
   "cell_type": "markdown",
   "metadata": {},
   "source": [
    "We then also create a lambdify function for the world price for later use in this project."
   ]
  },
  {
   "cell_type": "code",
   "execution_count": 113,
   "metadata": {},
   "outputs": [],
   "source": [
    "# Creating a lampdify function for later calculation of the world price \n",
    "world_p_func = sm.lambdify(args=(alpha, L, L_, a1, a_2), expr = world_p[0])"
   ]
  },
  {
   "attachments": {},
   "cell_type": "markdown",
   "metadata": {},
   "source": [
    "## Numerical solution"
   ]
  },
  {
   "attachments": {},
   "cell_type": "markdown",
   "metadata": {},
   "source": [
    "The Ricardian Model is used to show gains of trade by comparing the trade equilibrium with the individual autarky equilibrium. To illustrate this, we will solve our model under two conditions. \n",
    "\n",
    "Firstly, we assume autarky for both countries, such that production and consumption of both goods has to be equal within one country. \n",
    "Then, we assume that both countries are allowed to trade. \n",
    "\n",
    "Finally, we compare the differences in utility between both scenarios. Under the assumptions of the model, higher amounts of production lead to higher amounts of consumption. Thus, increased production increases the utility and therefore the welfare of the population of both countries."
   ]
  },
  {
   "attachments": {},
   "cell_type": "markdown",
   "metadata": {},
   "source": [
    "# Visualisation of the PPFs"
   ]
  },
  {
   "attachments": {},
   "cell_type": "markdown",
   "metadata": {},
   "source": [
    "Graphical Analysis: PPF\n",
    "\n",
    "In a Ricardian Model, countries differ in productivity ($a_1$ and $a_2$ in our setup) of their respective industries. This can be shown by Production Possibility Sets (PPS) that contain all possible combinations of labor endowments, that leave no labor unused. The Production Possibility Frontier (PPF) illustrates all possible PPS in a graph. Suppose Denmark is better at producing pharmaceuticals than Germany, while Germany is better at producing beer. We assamune the following individual productivites for each country:\n",
    "\n",
    "$$\n",
    "a_1^G = 10, a_2^G = 3, a^{DK}_1 = 4, a^{DK}_2 = 8\n",
    "$$"
   ]
  },
  {
   "cell_type": "code",
   "execution_count": 114,
   "metadata": {},
   "outputs": [
    {
     "data": {
      "image/png": "[encoded data removed]",
      "text/plain": [
       "<Figure size 640x480 with 1 Axes>"
      ]
     },
     "metadata": {},
     "output_type": "display_data"
    }
   ],
   "source": [
    "# Production Possibility Frontiers for Denmark and Germany\n",
    "\n",
    "model = RicardianModelClass()\n",
    "\n",
    "model.a1_d = 4   #Danish productivity for Beer\n",
    "model.a2_d = 8   #Danish productivity for Pharmaceuticals\n",
    "model.a1_g = 10  #German productivity for Beer\n",
    "model.a2_g = 3   #German productivity for Pharmaceuticals\n",
    "\n",
    "model.ppf_plot(model.a1_d, model.a2_d, model.a1_g, model.a2_g)"
   ]
  },
  {
   "attachments": {},
   "cell_type": "markdown",
   "metadata": {},
   "source": [
    "This plot visualises the PPF for Germany (blue) and the PPF for Danmark (Red) with our predefined productivities in both sectors. The slope of Denmark is much steeper than the one of Germany, because the slope is given as $-\\frac{a_2}{a_1}$. Thus, the autarky price in Denmark is much higher than the counterpart in Germany."
   ]
  },
  {
   "attachments": {},
   "cell_type": "markdown",
   "metadata": {},
   "source": [
    "# Autarky"
   ]
  },
  {
   "attachments": {},
   "cell_type": "markdown",
   "metadata": {},
   "source": [
    "Under autarky, Denmark and Germany cannot trade. Thus, we calculate the optimal consumption bundles and the resulting utility for each country individually."
   ]
  },
  {
   "attachments": {},
   "cell_type": "markdown",
   "metadata": {},
   "source": [
    "# The Case for Germany"
   ]
  },
  {
   "attachments": {},
   "cell_type": "markdown",
   "metadata": {},
   "source": [
    "For this static analysis, we assume that the parameters are fixed to predefined values. Thus, the parameters for Germany are given as $a_1^g = 10$, $a_2^g = 3$ and $\\alpha = 0.5$. Later, we relax the assumptions of predefined variables."
   ]
  },
  {
   "cell_type": "code",
   "execution_count": 115,
   "metadata": {},
   "outputs": [
    {
     "name": "stdout",
     "output_type": "stream",
     "text": [
      "Optimal value of c1 in Germany: 5.000\n",
      "Optimal value of c2 in Germany: 1.500\n",
      "The Utility for Germany is: 2.739\n"
     ]
    },
    {
     "data": {
      "image/png": "[encoded data removed]",
      "text/plain": [
       "<Figure size 640x480 with 1 Axes>"
      ]
     },
     "metadata": {},
     "output_type": "display_data"
    }
   ],
   "source": [
    "# Case: Germany under autarky\n",
    "\n",
    "# A. Solve for optimal consumption\n",
    "model = RicardianModelClass()\n",
    "\n",
    "# A.1 Insert values for alpha, a_1^G and a_2^G\n",
    "alpha = 0.5\n",
    "a1_g = 10\n",
    "a2_g = 3\n",
    "\n",
    "# A.2 Running the solver for the optimal consumption\n",
    "model.optimal_c1, model.optimal_c2 = model.optimize_autarky(alpha, a1_g, a2_g)\n",
    "\n",
    "# A.3 Print the optimal values of c1 and c2\n",
    "print(f\"Optimal value of c1 in Germany: {model.optimal_c1:.3f}\")\n",
    "print(f\"Optimal value of c2 in Germany: {model.optimal_c2:.3f}\")\n",
    "\n",
    "# A.4 The utility for Germany\n",
    "uG = model.utility( [model.optimal_c1, model.optimal_c2], alpha)\n",
    "print(f\"The Utility for Germany is: {uG:.3f}\")\n",
    "\n",
    "# B. Visualize PPF\n",
    "model.ppf_plot_individual(a1_g, a2_g, model.optimal_c1, model.optimal_c2)"
   ]
  },
  {
   "attachments": {},
   "cell_type": "markdown",
   "metadata": {},
   "source": [
    "The German PPF is given by the blue line. The red dot is the optimal production and consumption amounts of both goods under autarky. The optimal consumption bundle is located on the PPF, because in any case below the PPF not all resources are used. Although the consumers have the same preference for both goods, they consume more of good one compared to good two, because the autarky price of good one is relatively low due to the production advantages."
   ]
  },
  {
   "attachments": {},
   "cell_type": "markdown",
   "metadata": {},
   "source": [
    "# The Case for Denmark"
   ]
  },
  {
   "attachments": {},
   "cell_type": "markdown",
   "metadata": {},
   "source": [
    "For this static analysis, we assume that the parameters are fixed to predefined values. Thus, the parameters for Denmark are given as $a_1^d = 4$, $a_2^d = 8$ and $\\alpha = 0.5$. Later, we relax the assumptions of predefined variables."
   ]
  },
  {
   "cell_type": "code",
   "execution_count": 116,
   "metadata": {},
   "outputs": [
    {
     "name": "stdout",
     "output_type": "stream",
     "text": [
      "Optimal value of c1 in Denmark: 2.001\n",
      "Optimal value of c2 in Denmark: 3.999\n",
      "The Utility for Denmark is: 2.828\n"
     ]
    },
    {
     "data": {
      "image/png": "[encoded data removed]",
      "text/plain": [
       "<Figure size 640x480 with 1 Axes>"
      ]
     },
     "metadata": {},
     "output_type": "display_data"
    }
   ],
   "source": [
    "# Case: Denmark under autarky\n",
    "\n",
    "# A. Solve for optimal consumption\n",
    "model = RicardianModelClass()\n",
    "\n",
    "# A.1 Insert values for alpha, a_1^DK and a_2^DK\n",
    "alpha = 0.5\n",
    "a1_d = 4\n",
    "a2_d = 8\n",
    "\n",
    "# A.2 Running the solver for the optimal consumption\n",
    "model.optimal_c1, model.optimal_c2 = model.optimize_autarky(alpha, a1_d, a2_d)\n",
    "\n",
    "# A.3 Print the optimal values of c1 and c2\n",
    "print(f\"Optimal value of c1 in Denmark: {model.optimal_c1:.3f}\")\n",
    "print(f\"Optimal value of c2 in Denmark: {model.optimal_c2:.3f}\")\n",
    "\n",
    "# A.4 The utility for Denmark\n",
    "uDK = model.utility( [model.optimal_c1, model.optimal_c2], alpha)\n",
    "print(f\"The Utility for Denmark is: {uDK:.3f}\")\n",
    "\n",
    "\n",
    "# B. Visualize PPF\n",
    "model.ppf_plot_individual(a1_d, a2_d, model.optimal_c1, model.optimal_c2)\n",
    "plt.show()"
   ]
  },
  {
   "attachments": {},
   "cell_type": "markdown",
   "metadata": {},
   "source": [
    "The Danish PPF is given by the blue line. The red dot is the optimal production and consumption amounts of both goods under autarky. The optimal consumption bundle is located on the PPF, because in any case below the PPF not all resources are used. Although the consumers have the same preference for both goods, they consume more of good two compared to good one, because the autarky price of good one is relatively high due to the production disadvantages."
   ]
  },
  {
   "attachments": {},
   "cell_type": "markdown",
   "metadata": {},
   "source": [
    "# Trade"
   ]
  },
  {
   "attachments": {},
   "cell_type": "markdown",
   "metadata": {},
   "source": [
    "# Specialisation after Opening up to Trade"
   ]
  },
  {
   "attachments": {},
   "cell_type": "markdown",
   "metadata": {},
   "source": [
    "We will now be using the lambdify function which we derived in the analytical solution to calculate the world price after opening up to trade."
   ]
  },
  {
   "cell_type": "code",
   "execution_count": 117,
   "metadata": {},
   "outputs": [
    {
     "name": "stdout",
     "output_type": "stream",
     "text": [
      "The world price is: 0.947\n",
      "The autarky price for Germany in good 1 is: 0.300\n",
      "The autarky price for Denmark in good 1 is: 2.000\n"
     ]
    }
   ],
   "source": [
    "# A. Definition of Parameters\n",
    "alpha_vec = 0.5 # The preference for good 1\n",
    "L_val = 1 # normalize the labour force to 1 \n",
    "L__val = 1 # normalize the labour force to 1 \n",
    "a1_val = 10 # Productivity G in good 1\n",
    "a_2_val = 8 # Productivity DK in good 2\n",
    "a1_g = 10 # Productivity G in good 1\n",
    "a2_g = 3 # Productivity G in good 2\n",
    "a1_d = 4 # Productivity DK in good 1\n",
    "a2_d = 8 # Productivity DK in good 2\n",
    "\n",
    "# B. Calculate the world price\n",
    "price_world = world_p_func(alpha_vec, L_val, L__val, a1_val, a_2_val)\n",
    "\n",
    "# C. Calculate the autarky price for good 1 in Germany\n",
    "autarky_price_g =  a2_g/a1_g\n",
    "\n",
    "# D. Calculate the autarky price for good 1 in Denmark\n",
    "autarky_price_d = a2_d/a1_d\n",
    "\n",
    "# E. Print the Prices\n",
    "print(f\"The world price is: {price_world:.3f}\")\n",
    "print(f\"The autarky price for Germany in good 1 is: {autarky_price_g:.3f}\")\n",
    "print(f\"The autarky price for Denmark in good 1 is: {autarky_price_d:.3f}\")"
   ]
  },
  {
   "attachments": {},
   "cell_type": "markdown",
   "metadata": {},
   "source": [
    "The calculation of the three prices show, that the following relation holds: $p^G < p^w < p^{DK}$. \n",
    "\n",
    "We assume, that both countries have a labor force normalised to one. Consequently, both countries have the same size. Due to the lower autarky price in good 1 (relative to the world price), Germany specialises in the production of beer (good 1) and Denmark specialises in the production of pharmaceuticals (good 2). Because we assume an equal size for both countries, we have a full specialisation in the corresponding good. "
   ]
  },
  {
   "attachments": {},
   "cell_type": "markdown",
   "metadata": {},
   "source": [
    "# Optimal Consumption after Opening up to Trade"
   ]
  },
  {
   "attachments": {},
   "cell_type": "markdown",
   "metadata": {},
   "source": [
    "As previously shown, the given price relation under trade results in full specialisation for each country. Consequently, 10 units of beer and 8 units of pharmaceuticals are available. Assuming $ \\alpha = 0.5 $, both countries value both products equally. Given the composition of products, each country consumes 5 units of beer and 4 units of pharmaceuticals. This equilibrium is given in the green dot. The red and blue dots represent the autarky equilibrium of Denmark and Germany. The graph shows how trade leads to higher consumption in both countries. "
   ]
  },
  {
   "cell_type": "code",
   "execution_count": 118,
   "metadata": {},
   "outputs": [
    {
     "name": "stdout",
     "output_type": "stream",
     "text": [
      "The consumption from Germany for beer is            : 5.00\n",
      "The consumption from Germany for pharmaceuticals is : 4.00\n",
      "The consumption from Denmark for beer is            : 5.00\n",
      "The consumption from Denmark for pharmaceuticals is : 4.00\n"
     ]
    }
   ],
   "source": [
    "# Building a solver for the trade problem\n",
    "\n",
    "# Define the utility function\n",
    "def utility_world(x, alpha):\n",
    "    c1_g = x[0]\n",
    "    c2_g = x[1]\n",
    "    c1_d = x[2]\n",
    "    c2_d = x[3]\n",
    "    A = c1_g ** alpha\n",
    "    B = c2_g ** (1 - alpha)\n",
    "    C = c1_d ** alpha\n",
    "    D = c2_d ** (1 - alpha)\n",
    "    return -(A * B + C * D)\n",
    "\n",
    "# Define the constraints\n",
    "def productionconstraint_1(x):\n",
    "    c1_g = x[0]\n",
    "    c1_d = x[2]\n",
    "    return a1_DE - c1_g - c1_d\n",
    "\n",
    "def productionconstraint_2(x):\n",
    "    c2_g = x[1]\n",
    "    c2_d = x[3]\n",
    "    return a2_DK - c2_d - c2_g\n",
    "\n",
    "def incomeconstraint_1(x):\n",
    "    c1_g = x[0]\n",
    "    c2_g = x[1]\n",
    "    P = (alpha * (a1_g + a2_d)) / (a1_g - alpha)\n",
    "    return I_DE - c1_g * P - c2_g\n",
    "\n",
    "def incomeconstraint_2(x):\n",
    "    c1_d = x[2]\n",
    "    c2_d = x[3]\n",
    "    P = (alpha * (a1_g + a2_d)) / (a1_g - alpha)\n",
    "    return I_DK - c1_d * P - c2_d\n",
    "\n",
    "# Set up\n",
    "# set up the parameters\n",
    "alpha = 0.5\n",
    "a1_g = 10\n",
    "a2_d = 8\n",
    "I_DE = 9\n",
    "I_DK = 9\n",
    "\n",
    "# set up the bounds\n",
    "bound = (0, 10)\n",
    "bounds = (bound, bound, bound, bound)\n",
    "\n",
    "# set up the constraints\n",
    "prodconst_1 = {'type': 'eq', 'fun': productionconstraint_1}\n",
    "prodconst_2 = {'type': 'eq', 'fun': productionconstraint_2}\n",
    "incconst_1 = {'type': 'ineq', 'fun': incomeconstraint_1}\n",
    "incconst_2 = {'type': 'ineq', 'fun': incomeconstraint_2}\n",
    "\n",
    "# Set up the solver\n",
    "# set up the initial guess\n",
    "x0 = (1, 1, 1, 1)\n",
    "\n",
    "# Call the solver\n",
    "result = optimize.minimize(utility_world, x0, args=(alpha,), method='SLSQP', bounds=bounds, constraints=[prodconst_1, prodconst_2, incconst_1, incconst_2])\n",
    "\n",
    "# unpack solutions\n",
    "c1_g_trade = result.x[0]\n",
    "c2_g_trade = result.x[1]\n",
    "c1_d_trade = result.x[2]\n",
    "c2_d_trade = result.x[3]\n",
    "\n",
    "# print results\n",
    "print(f'The consumption from Germany for beer is            : {c1_g_trade:.2f}')\n",
    "print(f'The consumption from Germany for pharmaceuticals is : {c2_g_trade:.2f}')\n",
    "print(f'The consumption from Denmark for beer is            : {c1_d_trade:.2f}')\n",
    "print(f'The consumption from Denmark for pharmaceuticals is : {c2_d_trade:.2f}')"
   ]
  },
  {
   "cell_type": "code",
   "execution_count": 119,
   "metadata": {},
   "outputs": [
    {
     "data": {
      "image/png": "[encoded data removed]",
      "text/plain": [
       "<Figure size 640x480 with 1 Axes>"
      ]
     },
     "metadata": {},
     "output_type": "display_data"
    },
    {
     "name": "stdout",
     "output_type": "stream",
     "text": [
      "Utility for Germany under trade: 4.472\n",
      "Utility for Denmark under trade: 4.472\n"
     ]
    }
   ],
   "source": [
    "# Define the parameters\n",
    "a1_g = 10\n",
    "a2_g = 3\n",
    "a1_d = 4\n",
    "a2_d = 8\n",
    "\n",
    "# Create the plot\n",
    "    # Plots both PPFs with optimal points in autarky and trade\n",
    "def ppf_plot_trade(a1_d, a2_d, a1_g, a2_g):\n",
    "    # points in German ppf\n",
    "    x1 = [a1_g, 0]  \n",
    "    y1 = [0, a2_g]  \n",
    "\n",
    "    # points in Danish ppf\n",
    "    x2 = [a1_d, 0]  \n",
    "    y2 = [0, a2_d]  \n",
    "\n",
    "     # Plotting the lines\n",
    "    plt.plot(x1, y1, label='Germany')\n",
    "    plt.plot(x2, y2, label='Denmark')\n",
    "\n",
    "    # Adding labels and title\n",
    "    plt.xlabel('Beer')\n",
    "    plt.ylabel('Pharmaceuticals')\n",
    "    plt.title('PPFs')\n",
    "    plt.xlim(0, 10)\n",
    "    plt.ylim(0, 10)\n",
    "\n",
    "    # add autarky equlibrium points Germany\n",
    "    plt.scatter(5, 1.5, color='black')\n",
    "\n",
    "    # add autarky equlibrium points Denmarl\n",
    "    plt.scatter(2, 4, color='red')\n",
    "\n",
    "    # add the trade equlibirum \n",
    "    plt.scatter(c1_g_trade, c2_g_trade, color='green')\n",
    "\n",
    "    # Adding a legend\n",
    "    plt.legend()\n",
    "\n",
    "     # Displaying the plot\n",
    "    plt.show()\n",
    "\n",
    "ppf_plot_trade(a1_d, a2_d, a1_g, a2_g)\n",
    "\n",
    "# Calculating the utility for Germany\n",
    "utility_trade = model.utility([c1_g_trade, c2_g_trade], alpha)\n",
    "print(f\"Utility for Germany under trade: {utility_trade:.3f}\")\n",
    "\n",
    "# Calculating the utility for Denmark\n",
    "utility_trade = model.utility([c1_d_trade, c2_d_trade], alpha)\n",
    "print(f\"Utility for Denmark under trade: {utility_trade:.3f}\")\n"
   ]
  },
  {
   "attachments": {},
   "cell_type": "markdown",
   "metadata": {},
   "source": [
    "# Further analysis"
   ]
  },
  {
   "attachments": {},
   "cell_type": "markdown",
   "metadata": {},
   "source": [
    "We will now extend the analysis in the autarky case by varying the elasticity of substitution $\\alpha$."
   ]
  },
  {
   "cell_type": "code",
   "execution_count": 120,
   "metadata": {},
   "outputs": [
    {
     "name": "stdout",
     "output_type": "stream",
     "text": [
      "optimal c1: 0.000 & optimal c2: 3.000 alpha =  0.0\n",
      "The Utility for Germany is: 0.000\n",
      "optimal c1: 1.000 & optimal c2: 2.700 alpha =  0.1\n",
      "The Utility for Germany is: 1.643\n",
      "optimal c1: 2.000 & optimal c2: 2.400 alpha =  0.2\n",
      "The Utility for Germany is: 2.191\n",
      "optimal c1: 2.999 & optimal c2: 2.100 alpha =  0.3\n",
      "The Utility for Germany is: 2.510\n",
      "optimal c1: 3.999 & optimal c2: 1.800 alpha =  0.4\n",
      "The Utility for Germany is: 2.683\n",
      "optimal c1: 6.000 & optimal c2: 1.200 alpha =  0.6\n",
      "The Utility for Germany is: 2.683\n",
      "optimal c1: 7.000 & optimal c2: 0.900 alpha =  0.7\n",
      "The Utility for Germany is: 2.510\n",
      "optimal c1: 8.000 & optimal c2: 0.600 alpha =  0.8\n",
      "The Utility for Germany is: 2.191\n",
      "optimal c1: 9.000 & optimal c2: 0.300 alpha =  0.9\n",
      "The Utility for Germany is: 1.643\n",
      "optimal c1: 10.000 & optimal c2: 0.000 alpha =  1.0\n",
      "The Utility for Germany is: 0.000\n"
     ]
    }
   ],
   "source": [
    "# Varying alpha \n",
    "alpha_vec = np.array([0, 0.1, 0.2, 0.3, 0.4, 0.6, 0.7, 0.8, 0.9, 1])\n",
    "\n",
    "# Germany under autarky\n",
    "model = RicardianModelClass()\n",
    "\n",
    "# insert values\n",
    "a1_g = 10\n",
    "a2_g = 3\n",
    "\n",
    "# loop over the alpha vector to calculate optimal consumption and utility\n",
    "for i in alpha_vec: \n",
    "    optimal_c1, optimal_c2 = model.optimize_autarky(i, a1_g, a2_g)\n",
    "    print(f'optimal c1: {optimal_c1:1.3f}',\"&\", f'optimal c2: {optimal_c2:1.3f}', 'alpha = ', i)\n",
    "    # the utility for Germany\n",
    "    uDK = model.utility( [optimal_c1, optimal_c2], alpha)\n",
    "    print(f\"The Utility for Germany is: {uDK:.3f}\")"
   ]
  },
  {
   "cell_type": "code",
   "execution_count": 121,
   "metadata": {},
   "outputs": [
    {
     "data": {
      "application/vnd.jupyter.widget-view+json": {
       "model_id": "2963f08b70bb47f3a0052268ad8f8f7b",
       "version_major": 2,
       "version_minor": 0
      },
      "text/plain": [
       "interactive(children=(FloatSlider(value=0.0, description='alpha', max=1.0), Output()), _dom_classes=('widget-i…"
      ]
     },
     "metadata": {},
     "output_type": "display_data"
    }
   ],
   "source": [
    "def plot_ppf(alpha, a1_g, a2_g):\n",
    "    # Germany under autarky\n",
    "    model = RicardianModelClass()\n",
    "\n",
    "    # Calculate optimal consumption levels\n",
    "    optimal_c1, optimal_c2 = model.optimize_autarky(alpha, a1_g, a2_g)\n",
    "\n",
    "    # Define a range of values for y1\n",
    "    y1 = np.linspace(0, 10)\n",
    "\n",
    "    # Calculate corresponding values of y2 using the given equation\n",
    "    y2 = a2_g - (a2_g / a1_g) * y1\n",
    "\n",
    "    # Plot y2G against y1G\n",
    "    plt.plot(y1, y2)\n",
    "    plt.xlabel('y1')\n",
    "    plt.ylabel('y2')\n",
    "    plt.title('The PPF for Germany')\n",
    "    plt.xlim(0, 10)\n",
    "    plt.ylim(0, 10)\n",
    "\n",
    "    # Add a point at coordinates (optimal_c1, optimal_c2)\n",
    "    plt.scatter(optimal_c1, optimal_c2, color='red')\n",
    "\n",
    "    plt.show()\n",
    "\n",
    "# Set up the interactive widget\n",
    "interactive_plot = interactive(plot_ppf, alpha=(0, 1, 0.1), a1_g=fixed(10), a2_g=fixed(3))\n",
    "\n",
    "# Show the widget\n",
    "interactive_plot"
   ]
  },
  {
   "cell_type": "code",
   "execution_count": 122,
   "metadata": {},
   "outputs": [
    {
     "name": "stdout",
     "output_type": "stream",
     "text": [
      "optimal c1: 0.000 & optimal c2: 8.000 alpha =  0.0\n",
      "The Utility for Denmark is: 0.000\n",
      "optimal c1: 0.400 & optimal c2: 7.200 alpha =  0.1\n",
      "The Utility for Denmark is: 1.697\n",
      "optimal c1: 0.800 & optimal c2: 6.399 alpha =  0.2\n",
      "The Utility for Denmark is: 2.263\n",
      "optimal c1: 1.200 & optimal c2: 5.600 alpha =  0.3\n",
      "The Utility for Denmark is: 2.592\n",
      "optimal c1: 1.601 & optimal c2: 4.798 alpha =  0.4\n",
      "The Utility for Denmark is: 2.772\n",
      "optimal c1: 2.401 & optimal c2: 3.198 alpha =  0.6\n",
      "The Utility for Denmark is: 2.771\n",
      "optimal c1: 2.801 & optimal c2: 2.399 alpha =  0.7\n",
      "The Utility for Denmark is: 2.592\n",
      "optimal c1: 3.200 & optimal c2: 1.600 alpha =  0.8\n",
      "The Utility for Denmark is: 2.263\n",
      "optimal c1: 3.599 & optimal c2: 0.802 alpha =  0.9\n",
      "The Utility for Denmark is: 1.699\n",
      "optimal c1: 4.000 & optimal c2: 0.000 alpha =  1.0\n",
      "The Utility for Denmark is: 0.000\n"
     ]
    }
   ],
   "source": [
    "# Varying alpha     \n",
    "alpha_vec = np.array([0, 0.1, 0.2, 0.3, 0.4, 0.6, 0.7, 0.8, 0.9, 1])\n",
    "\n",
    "# Denmark under autarky\n",
    "model = RicardianModelClass()\n",
    "\n",
    "# Insert values\n",
    "a1_d = 4\n",
    "a2_d = 8\n",
    "\n",
    "# Loop over the alpha vector to calculate optimal consumption and utility\n",
    "for i in alpha_vec: \n",
    "    optimal_c1, optimal_c2 = model.optimize_autarky(i, a1_d, a2_d)\n",
    "    print(f'optimal c1: {optimal_c1:1.3f}',\"&\" , f'optimal c2: {optimal_c2:1.3f}', 'alpha = ', i)\n",
    "    # The utility for Denmark\n",
    "    uDK = model.utility( [optimal_c1, optimal_c2], alpha)\n",
    "    print(f\"The Utility for Denmark is: {uDK:.3f}\")"
   ]
  },
  {
   "cell_type": "code",
   "execution_count": 123,
   "metadata": {},
   "outputs": [
    {
     "data": {
      "application/vnd.jupyter.widget-view+json": {
       "model_id": "37a59fdbc96c4ab7be481615ca48b3a4",
       "version_major": 2,
       "version_minor": 0
      },
      "text/plain": [
       "interactive(children=(FloatSlider(value=0.0, description='alpha', max=1.0), Output()), _dom_classes=('widget-i…"
      ]
     },
     "metadata": {},
     "output_type": "display_data"
    }
   ],
   "source": [
    "def plot_ppf(alpha, a1_d, a2_d):\n",
    "    # Germany under autarky\n",
    "    model = RicardianModelClass()\n",
    "\n",
    "    # Calculate optimal consumption levels\n",
    "    optimal_c1, optimal_c2 = model.optimize_autarky(alpha, a1_d, a2_d)\n",
    "\n",
    "    # Calculate utility\n",
    "    uDK = model.utility([optimal_c1, optimal_c2], alpha)\n",
    "\n",
    "    # Define a range of values for y1\n",
    "    y1 = np.linspace(0, 10)\n",
    "\n",
    "    # Calculate corresponding values of y2 using the given equation\n",
    "    y2 = a2_d - (a2_d / a1_d) * y1\n",
    "\n",
    "    # plot y2G against y1G\n",
    "    plt.plot(y1, y2)\n",
    "    plt.xlabel('y1')\n",
    "    plt.ylabel('y2')\n",
    "    plt.title('The PPF for Denmark')\n",
    "    plt.xlim(0, 10)\n",
    "    plt.ylim(0, 10)\n",
    "\n",
    "    # Add a point at coordinates (optimal_c1, optimal_c2)\n",
    "    plt.scatter(optimal_c1, optimal_c2, color='red')\n",
    "\n",
    "    plt.show()\n",
    "\n",
    "# Set up the interactive widget\n",
    "interactive_plot = interactive(plot_ppf, alpha=(0, 1, 0.1), a1_d=fixed(4), a2_d=fixed(8))\n",
    "\n",
    "# Show the widget\n",
    "interactive_plot"
   ]
  },
  {
   "attachments": {},
   "cell_type": "markdown",
   "metadata": {},
   "source": [
    "# Conclusion"
   ]
  },
  {
   "attachments": {},
   "cell_type": "markdown",
   "metadata": {},
   "source": [
    "In this project we constructed a Ricardian Model of Trade, compared the situations of trade and autarky and have shown the gains from trade. Furthermore, we extended our model to allow for a variation in the parameter $\\alpha$ and thus show how this variation affects the consumption bundle and utility of the respective country under autarky."
   ]
  }
 ],
 "metadata": {
  "kernelspec": {
   "display_name": "base",
   "language": "python",
   "name": "python3"
  },
  "language_info": {
   "codemirror_mode": {
    "name": "ipython",
    "version": 3
   },
   "file_extension": ".py",
   "mimetype": "text/x-python",
   "name": "python",
   "nbconvert_exporter": "python",
   "pygments_lexer": "ipython3",
   "version": "3.9.13"
  },
  "toc-autonumbering": true,
  "vscode": {
   "interpreter": {
    "hash": "7db7b69fde20000a56018626e4abdffb71e8631d10a662cce493615e971806dc"
   }
  }
 },
 "nbformat": 4,
 "nbformat_minor": 4
}
