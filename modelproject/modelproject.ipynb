{
 "cells": [
  {
   "attachments": {},
   "cell_type": "markdown",
   "metadata": {},
   "source": [
    "# Model Project: Ricardian Model of International Trade"
   ]
  },
  {
   "attachments": {},
   "cell_type": "markdown",
   "metadata": {},
   "source": [
    "General outline for us:\n",
    "\n",
    "Ricardian Model\n",
    "- assumptions ...\n",
    "- definitions/ equations ...\n",
    "- analytical solution: solve for relative prices; solving autarky, vs. trade price ratios\n",
    "- numeric solution ...\n",
    "- extension of the model: scale effects, transportation costs are probably easiest to implement"
   ]
  },
  {
   "attachments": {},
   "cell_type": "markdown",
   "metadata": {},
   "source": [
    "> **Note the following:** \n",
    "> 1. This is *not* meant to be an example of an actual **model analysis project**, just an example of how to structure such a project.\n",
    "> 1. Remember the general advice on structuring and commenting your code\n",
    "> 1. The `modelproject.py` file includes a function which could be used multiple times in this notebook."
   ]
  },
  {
   "cell_type": "markdown",
   "metadata": {},
   "source": [
    "Imports and set magics:"
   ]
  },
  {
   "cell_type": "code",
   "execution_count": 1,
   "metadata": {},
   "outputs": [],
   "source": [
    "import numpy as np\n",
    "from scipy import optimize\n",
    "import sympy as sm\n",
    "import matplotlib.pyplot as plt\n",
    "\n",
    "# autoreload modules when code is run\n",
    "%load_ext autoreload\n",
    "%autoreload 2\n",
    "\n",
    "# local modules\n",
    "from modelproject import RicardianModelClass"
   ]
  },
  {
   "cell_type": "markdown",
   "metadata": {},
   "source": [
    "# Model description"
   ]
  },
  {
   "cell_type": "markdown",
   "metadata": {},
   "source": [
    "**Write out the model in equations here.** \n",
    "\n",
    "Make sure you explain well the purpose of the model and comment so that other students who may not have seen it before can follow.  "
   ]
  },
  {
   "attachments": {},
   "cell_type": "markdown",
   "metadata": {},
   "source": [
    "# Ricardian Model - General Assumptions"
   ]
  },
  {
   "attachments": {},
   "cell_type": "markdown",
   "metadata": {},
   "source": [
    "The Ricardian Model of International Trade is a theory that explains how gains from trade develop. The basic version assumes two countries that produce two goods. Labor is the only necessary input for production. The model describes a perfect equilibrium with perfect competition on all markets. There are no transportation costs for trade between countries. The goods that countries produce are assumed to be identical for each industry. Labor is homogeneous in a given country, but labor productivity can vary between countries. Additionally, labor is assumed to be mobile across industries in a country, but not across countries. Households (that consist of workers supplying labor to the economy) maximize utility subject to a budget constraint that depends on income. "
   ]
  },
  {
   "attachments": {},
   "cell_type": "markdown",
   "metadata": {},
   "source": [
    "Our setup:\n",
    "\n",
    "Suppose there are two countries, Denmark (denoted without a *) and Germany (denoted with a *). Both countries produce two goods each, beer (y1) and pharmaceuticals (y2). Labor is the only necessary input for production. The linear production technologies are given by:\n",
    "\n",
    "$$\n",
    "y_1 = a_1 L_1;          y_2 = a_2 L_2\n",
    "$$\n",
    "\n",
    "$L_i$ denotes labor employed, $a_i$ the respective productivity in sector $i = 1,2$. The given industries use the total available labor $L$ in each country:\n",
    "\n",
    "$$\n",
    "L_1 + L_2 = L\n",
    "$$\n",
    "\n",
    "Workers are assumed to be perfectly mobile between industries, but not across countries. There are no transportation costs for trade between countries. The goods that countries produce are assumed to be identical for each industry. While labor is assumed to be homogeneous, labor productivity can vary between countries. Thus, the following inequality determines differences in productivity:\n",
    "\n",
    "$$\n",
    "\\frac{a_1}{a_2} > \\frac{a^*_1}{a^*_2}\n",
    "$$\n",
    "\n",
    "Each country is inhabited by a representative consumer with the following Cobb-Douglas utility function:\n",
    "\n",
    "$$\n",
    "U(c_1, c_2) = c_1^{\\alpha}  c_2^{1-\\alpha}\n",
    "$$\n",
    "\n",
    "where $c_1$ and $c_2$ denote consumption of the respective goods. Consumers financially constrained by the income $I$ they earn. This income is determined by their wage $w$ and the amount of labor they provide. The model assumes income to be fully used for the consumption of goods:\n",
    "\n",
    "$$\n",
    "I = wL = py_1 + y_2\n",
    "$$\n",
    "\n",
    "The price of $y_2$ is normalized to 1.\n",
    "\n",
    "\n"
   ]
  },
  {
   "attachments": {},
   "cell_type": "markdown",
   "metadata": {},
   "source": [
    "Graphical Analysis: PPS\n",
    "\n",
    "In a Ricardian Model, countries differ in productivity ($a_1$ and $a_2$ in our setup) of their respective industries. This can be shown by Production Possibility Sets (PPS) that contain all possible combinations of labor endowments, that leave no labor unused. Suppose Denmark is better at producing pharmaceuticals than Germany, while Germany is better at producing beer. The individual productivites could be:\n",
    "\n",
    "$$\n",
    "a_1 = 4, a_2 = 8, a^*_1 = 10, a^*_2 = 3\n",
    "$$"
   ]
  },
  {
   "cell_type": "code",
   "execution_count": 3,
   "metadata": {},
   "outputs": [
    {
     "data": {
      "image/png": "[encoded data removed]",
      "text/plain": [
       "<Figure size 640x480 with 1 Axes>"
      ]
     },
     "metadata": {},
     "output_type": "display_data"
    }
   ],
   "source": [
    "# Production Possibility Sets (?) for Denmark and Germany\n",
    "\n",
    "model = RicardianModelClass()\n",
    "\n",
    "model.a1_d = 4   #Danish productivity for Beer\n",
    "model.a2_d = 8   #Danish productivity for Pharmaceuticals\n",
    "model.a1_g = 10  #German productivity for Beer\n",
    "model.a2_g = 3   #German productivity for Pharmaceuticals\n",
    "\n",
    "model.ppf_plot(model.a1_d, model.a2_d, model.a1_g, model.a2_g)\n",
    "\n",
    "\n"
   ]
  },
  {
   "cell_type": "markdown",
   "metadata": {},
   "source": [
    "## Analytical solution"
   ]
  },
  {
   "cell_type": "markdown",
   "metadata": {},
   "source": [
    "If your model allows for an analytical solution, you should provide here.\n",
    "\n",
    "You may use Sympy for this. Then you can characterize the solution as a function of a parameter of the model.\n",
    "\n",
    "To characterize the solution, first derive a steady state equation as a function of a parameter using Sympy.solve and then turn it into a python function by Sympy.lambdify. See the lecture notes for details. "
   ]
  },
  {
   "attachments": {},
   "cell_type": "markdown",
   "metadata": {},
   "source": [
    "The Ricardian Model of International Trade is a general equilibrium model. This allows for analytical solutions of various equilibrium variables, such as price, wages, and quantities consumed. "
   ]
  },
  {
   "cell_type": "code",
   "execution_count": 211,
   "metadata": {},
   "outputs": [],
   "source": [
    "# Deriving the equilibrium price\n",
    "# The equilibrium price is assumed to maximize household utility\n",
    "\n",
    "c1 = sm.symbols('c1')\n",
    "c2 = sm.symbols('c2')\n",
    "alpha = sm.symbols('alpha')\n",
    "p = sm.symbols('p')\n",
    "I = sm.symbols('I')\n",
    "a1 = sm.symbols('a1')\n",
    "a2 = sm.symbols('a2')\n",
    "L = sm.symbols('L')\n",
    "a_2 = sm.symbols('a2s')\n",
    "L_ = sm.symbols('Ls')\n",
    "mu = sm.symbols('mu')"
   ]
  },
  {
   "cell_type": "code",
   "execution_count": 212,
   "metadata": {},
   "outputs": [
    {
     "data": {
      "text/latex": [
       "$\\displaystyle c_{1}^{\\alpha} c_{2}^{1 - \\alpha}$"
      ],
      "text/plain": [
       "c1**alpha*c2**(1 - alpha)"
      ]
     },
     "execution_count": 212,
     "metadata": {},
     "output_type": "execute_result"
    }
   ],
   "source": [
    "objective = c1**(alpha) * c2**(1-alpha)\n",
    "objective"
   ]
  },
  {
   "cell_type": "code",
   "execution_count": 213,
   "metadata": {},
   "outputs": [
    {
     "data": {
      "text/latex": [
       "$\\displaystyle \\frac{I \\alpha}{p}$"
      ],
      "text/plain": [
       "I*alpha/p"
      ]
     },
     "execution_count": 213,
     "metadata": {},
     "output_type": "execute_result"
    }
   ],
   "source": [
    "budget_constraint = sm.Eq(p*c1 + c2, I)\n",
    "budget_constraint\n",
    "#Isolate\n",
    "c2_from_con = sm.solve(budget_constraint, c2)\n",
    "c2_from_con[0]\n",
    "\n",
    "\n",
    "#Substitute\n",
    "\n",
    "\n",
    "objective_subs_c1 = objective.subs(c2, c2_from_con[0])\n",
    "objective_subs_c1\n",
    "\n",
    "\n",
    "# FOC\n",
    "\n",
    "\n",
    "foc_c1 = sm.diff(objective_subs_c1, c1)\n",
    "foc_c1\n",
    "\n",
    "\n",
    "# Solve\n",
    "\n",
    "\n",
    "sol_c1 = sm.solve(sm.Eq(foc_c1,0), c1)\n",
    "sol_c1[0]"
   ]
  },
  {
   "cell_type": "code",
   "execution_count": 214,
   "metadata": {},
   "outputs": [
    {
     "data": {
      "text/latex": [
       "$\\displaystyle I \\left(1 - \\alpha\\right)$"
      ],
      "text/plain": [
       "I*(1 - alpha)"
      ]
     },
     "execution_count": 214,
     "metadata": {},
     "output_type": "execute_result"
    }
   ],
   "source": [
    "#Isolate\n",
    "c1_from_con = sm.solve(budget_constraint, c1)\n",
    "c1_from_con[0]\n",
    "\n",
    "\n",
    "#Substitute\n",
    "\n",
    "\n",
    "objective_subs_c2 = objective.subs(c1, c1_from_con[0])\n",
    "objective_subs_c2\n",
    "\n",
    "\n",
    "# FOC\n",
    "\n",
    "\n",
    "foc_c2 = sm.diff(objective_subs_c2, c2)\n",
    "foc_c2\n",
    "\n",
    "\n",
    "\n",
    "\n",
    "sol_c2 = sm.solve(sm.Eq(foc_c2,0), c2)\n",
    "sol_c2[0]"
   ]
  },
  {
   "cell_type": "code",
   "execution_count": 215,
   "metadata": {},
   "outputs": [
    {
     "data": {
      "text/latex": [
       "$\\displaystyle - \\frac{\\alpha c_{2}}{c_{1} \\left(\\alpha - 1\\right)}$"
      ],
      "text/plain": [
       "-alpha*c2/(c1*(alpha - 1))"
      ]
     },
     "execution_count": 215,
     "metadata": {},
     "output_type": "execute_result"
    }
   ],
   "source": [
    "# Bringing both c1 and c2 together to solve for p\n",
    "\n",
    "\n",
    "opt_c1 = sm.Eq(c1, sol_c1[0])\n",
    "opt_c1 = sm.solve(opt_c1, I)\n",
    "\n",
    "\n",
    "opt_c2 = sm.Eq(c2, sol_c2[0])\n",
    "opt_c2 = sm.solve(opt_c2, I)\n",
    "\n",
    "\n",
    "# solve for p\n",
    "\n",
    "\n",
    "x = sm.Eq(opt_c1[0], opt_c2[0])\n",
    "\n",
    "\n",
    "sol_p = sm.solve(x, p)\n",
    "sol_p[0]"
   ]
  },
  {
   "cell_type": "code",
   "execution_count": 216,
   "metadata": {},
   "outputs": [
    {
     "data": {
      "text/latex": [
       "$\\displaystyle \\frac{I \\alpha}{p}$"
      ],
      "text/plain": [
       "I*alpha/p"
      ]
     },
     "execution_count": 216,
     "metadata": {},
     "output_type": "execute_result"
    }
   ],
   "source": [
    "marshall_c2 = sm.solve(x, c2)\n",
    "\n",
    "\n",
    "# Insert into the budget constraint\n",
    "\n",
    "budget_constraint_marsh_c1 = sm.Eq(p*c1 + marshall_c2[0], I)\n",
    "\n",
    "# solve for c1\n",
    "\n",
    "c1_marsh = sm.solve(budget_constraint_marsh_c1, c1)\n",
    "c1_marsh[0]\n"
   ]
  },
  {
   "cell_type": "code",
   "execution_count": 217,
   "metadata": {},
   "outputs": [
    {
     "data": {
      "text/latex": [
       "$\\displaystyle I \\left(1 - \\alpha\\right)$"
      ],
      "text/plain": [
       "I*(1 - alpha)"
      ]
     },
     "execution_count": 217,
     "metadata": {},
     "output_type": "execute_result"
    }
   ],
   "source": [
    "marshall_c1 = sm.solve(x, c1)\n",
    "\n",
    "# Insert into the budget constraint\n",
    "\n",
    "budget_constraint_marsh_c2 = sm.Eq(p * marshall_c1[0] + c2, I)\n",
    "\n",
    "# solve for c1\n",
    "\n",
    "c2_marsh = sm.solve(budget_constraint_marsh_c2, c2)\n",
    "c2_marsh[0]\n"
   ]
  },
  {
   "cell_type": "code",
   "execution_count": 218,
   "metadata": {},
   "outputs": [
    {
     "data": {
      "text/latex": [
       "$\\displaystyle \\frac{\\alpha \\left(L a_{1} + Ls a2s\\right)}{L a_{1} - \\alpha}$"
      ],
      "text/plain": [
       "alpha*(L*a1 + Ls*a2s)/(L*a1 - alpha)"
      ]
     },
     "execution_count": 218,
     "metadata": {},
     "output_type": "execute_result"
    }
   ],
   "source": [
    "# world demand for good 1 \n",
    "\n",
    "world_sup = sm.Eq(((p + a1 * L) * alpha)/p + (a_2 * L_) * alpha/p, a1 * L)\n",
    "\n",
    "# solve for the world price\n",
    "\n",
    "world_p = sm.solve(world_sup, p)\n",
    "world_p[0]"
   ]
  },
  {
   "cell_type": "code",
   "execution_count": 220,
   "metadata": {},
   "outputs": [
    {
     "name": "stdout",
     "output_type": "stream",
     "text": [
      "pw: 0.000\n",
      "pw: 0.367\n",
      "pw: 0.750\n",
      "pw: 1.149\n",
      "pw: 1.565\n",
      "pw: 2.000\n"
     ]
    }
   ],
   "source": [
    "# lampdify \n",
    "world_p_func = sm.lambdify(args=(alpha, L, L_, a1, a_2), expr = world_p[0])\n",
    "\n",
    "alpha_vec = np.array([0, 0.2, 0.4, 0.6, 0.8, 1])\n",
    "L_val = 1\n",
    "L__val = 1\n",
    "a1_val = 10\n",
    "a_2_val = 8\n",
    "\n",
    "\n",
    "price_world = world_p_func(alpha_vec, L_val, L__val, a1_val, a_2_val)\n",
    "for x in price_world:\n",
    "    print(f'pw: {x:1.3f}')"
   ]
  },
  {
   "attachments": {},
   "cell_type": "markdown",
   "metadata": {},
   "source": [
    "When we perform the analytical solution we come to an equilibrium price of \n",
    "$$\n",
    "p^w = \\frac{\\alpha(La_1 + L^* a_2^*)}{La_1 - \\alpha}\n",
    "$$\n",
    "which is what we expected."
   ]
  },
  {
   "cell_type": "code",
   "execution_count": 204,
   "metadata": {},
   "outputs": [
    {
     "data": {
      "text/latex": [
       "$\\displaystyle p^{a} = 0.3$"
      ],
      "text/plain": [
       "Eq(p**a, 0.3)"
      ]
     },
     "execution_count": 204,
     "metadata": {},
     "output_type": "execute_result"
    }
   ],
   "source": [
    "# Prices in Autarky \n",
    "a1_g = 10 \n",
    "a2_g = 3\n",
    "autarky_price_g = sm.Eq(p**(a), a2_g/a1_g)\n",
    "\n",
    "autarky_price_g\n"
   ]
  },
  {
   "cell_type": "code",
   "execution_count": 205,
   "metadata": {},
   "outputs": [
    {
     "data": {
      "text/latex": [
       "$\\displaystyle p^{a} = 2.0$"
      ],
      "text/plain": [
       "Eq(p**a, 2.0)"
      ]
     },
     "execution_count": 205,
     "metadata": {},
     "output_type": "execute_result"
    }
   ],
   "source": [
    "a1_dk = 4 \n",
    "a2_dk = 8\n",
    "\n",
    "autarky_price_dk = sm.Eq(p**(a), a2_dk/a1_dk)\n",
    "\n",
    "\n",
    "autarky_price_dk"
   ]
  },
  {
   "cell_type": "markdown",
   "metadata": {},
   "source": [
    "## Numerical solution"
   ]
  },
  {
   "cell_type": "markdown",
   "metadata": {},
   "source": [
    "You can always solve a model numerically. \n",
    "\n",
    "Define first the set of parameters you need. \n",
    "\n",
    "Then choose one of the optimization algorithms that we have gone through in the lectures based on what you think is most fitting for your model.\n",
    "\n",
    "Are there any problems with convergence? Does the model converge for all starting values? Make a lot of testing to figure these things out. "
   ]
  },
  {
   "attachments": {},
   "cell_type": "markdown",
   "metadata": {},
   "source": [
    "The Ricardian Model is best used to show gains of trade. To illustrate this, we will solve our model under two conditions. Firstly, we assume autarky such that both countries have to produce both goods and cannot trade. Then, we assume that both countries are allowed to trade. Finally, we compare the amounts produced. Under the assumptions of the model, higher amounts of production lead to higher amounts of consumption. Thus, increased production increases the utility and therefore the welfare of the population of both countries."
   ]
  },
  {
   "attachments": {},
   "cell_type": "markdown",
   "metadata": {},
   "source": [
    "# Autarky"
   ]
  },
  {
   "attachments": {},
   "cell_type": "markdown",
   "metadata": {},
   "source": [
    "Under autarky, Denmark and Germany cannot trade. Thus, we calculate the optimal consumption bundles for each country individually."
   ]
  },
  {
   "cell_type": "code",
   "execution_count": 221,
   "metadata": {},
   "outputs": [
    {
     "name": "stdout",
     "output_type": "stream",
     "text": [
      "Optimal value of c1 in Germany: 5.000\n",
      "Optimal value of c2 in Germany: 1.500\n"
     ]
    },
    {
     "data": {
      "image/png": "[encoded data removed]",
      "text/plain": [
       "<Figure size 640x480 with 1 Axes>"
      ]
     },
     "metadata": {},
     "output_type": "display_data"
    }
   ],
   "source": [
    "# Germany under autarky\n",
    "\n",
    "model = RicardianModelClass()\n",
    "\n",
    "# insert values\n",
    "alpha = 0.5\n",
    "a1 = 10\n",
    "a2 = 3\n",
    "\n",
    "optimal_c1, optimal_c2 = model.optimize_autarky(alpha, a1, a2)\n",
    "\n",
    "# Print the optimal values of c1 and c2\n",
    "print(f\"Optimal value of c1 in Germany: {optimal_c1:.3f}\")\n",
    "print(f\"Optimal value of c2 in Germany: {optimal_c2:.3f}\")\n",
    "\n",
    "# Visualize the optimal consumption in the PPF\n",
    "\n",
    "\n",
    "# define a range of values for y1\n",
    "y1 = np.linspace(0, 10)\n",
    "\n",
    "\n",
    "# calculate corresponding values of y2 using the given equation\n",
    "y2 = a2 - (a2/a1)*y1\n",
    "\n",
    "\n",
    "# plot y2 against y1\n",
    "plt.plot(y1, y2)\n",
    "plt.xlabel('y1')\n",
    "plt.ylabel('y2')\n",
    "plt.title('The PPF for Germany')\n",
    "\n",
    "\n",
    "# add a point at coordinates (5, 2)\n",
    "plt.scatter(optimal_c1, optimal_c2, color='red')\n",
    "\n",
    "\n",
    "plt.show()\n"
   ]
  },
  {
   "cell_type": "code",
   "execution_count": 222,
   "metadata": {},
   "outputs": [
    {
     "name": "stdout",
     "output_type": "stream",
     "text": [
      "Optimal value of c1 in Denmark: 2.001\n",
      "Optimal value of c2 in Denmark: 3.999\n"
     ]
    },
    {
     "data": {
      "image/png": "[encoded data removed]",
      "text/plain": [
       "<Figure size 640x480 with 1 Axes>"
      ]
     },
     "metadata": {},
     "output_type": "display_data"
    }
   ],
   "source": [
    "# Denmark under autarky\n",
    "\n",
    "model = RicardianModelClass()\n",
    "\n",
    "# insert values\n",
    "alpha = 0.5\n",
    "a1 = 4\n",
    "a2 = 8\n",
    "\n",
    "optimal_c1, optimal_c2 = model.optimize_autarky(alpha, a1, a2)\n",
    "\n",
    "# Print the optimal values of c1 and c2\n",
    "print(f\"Optimal value of c1 in Denmark: {optimal_c1:.3f}\")\n",
    "print(f\"Optimal value of c2 in Denmark: {optimal_c2:.3f}\")\n",
    "\n",
    "# Visualize the optimal consumption in the PPF\n",
    "\n",
    "\n",
    "# define a range of values for y1\n",
    "y1 = np.linspace(0, 4)\n",
    "\n",
    "\n",
    "# calculate corresponding values of y2 using the given equation\n",
    "y2 = a2 - (a2/a1)*y1\n",
    "\n",
    "\n",
    "# plot y2 against y1\n",
    "plt.plot(y1, y2)\n",
    "plt.xlabel('y1')\n",
    "plt.ylabel('y2')\n",
    "plt.title('The PPF for Denmark')\n",
    "\n",
    "\n",
    "# add a point at coordinates (5, 2)\n",
    "plt.scatter(optimal_c1, optimal_c2, color='red')\n",
    "\n",
    "\n",
    "plt.show()\n"
   ]
  },
  {
   "attachments": {},
   "cell_type": "markdown",
   "metadata": {},
   "source": [
    "# Trade"
   ]
  },
  {
   "attachments": {},
   "cell_type": "markdown",
   "metadata": {},
   "source": [
    "As we have shown with the world price and the two autarky prices for both countries, Germany is supposed to produce beer and Denmark is producing pharamaceuticals."
   ]
  },
  {
   "cell_type": "code",
   "execution_count": null,
   "metadata": {},
   "outputs": [],
   "source": [
    "# First possibility of trade\n",
    "\n",
    "\n",
    "a1G = 3\n",
    "a2G = 1\n",
    "a1DK = 1\n",
    "a2DK = 3\n",
    "\n",
    "\n",
    "def u1(c1G, c2G):\n",
    "   return c1G**(0.5)*c2G**(0.5)\n",
    "\n",
    "\n",
    "def u2(c1DK, c2DK):\n",
    "   return c1DK**(0.5)*c2DK**(0.5)\n",
    "\n",
    "\n",
    "def y1G(a1G, a2G, a1DK, a2DK):\n",
    "   return a1G if (a1G/a2G) > (a1DK/a2DK) else 0\n",
    "\n",
    "\n",
    "def y2G(a1G, a2G, a1DK, a2DK):\n",
    "   return a2G if (a1G/a2G) < (a1DK/a2DK) else 0\n",
    "\n",
    "\n",
    "def y1DK(a1G, a2G, a1DK, a2DK):\n",
    "   return a1DK if (a1G/a2G) < (a1DK/a2DK) else 0\n",
    "\n",
    "\n",
    "def y2DK(a1G, a2G, a1DK, a2DK):\n",
    "   return a2DK if (a1G/a2G) > (a1DK/a2DK) else 0\n",
    "\n",
    "\n",
    "def constraint1(x):\n",
    "   c1G, c1DK = x[0], x[2]\n",
    "   return y1G(a1G, a2G, a1DK, a2DK) - c1G - c1DK\n",
    "\n",
    "\n",
    "def constraint2(x):\n",
    "   c2G, c2DK = x[1], x[3]\n",
    "   return y2G(a1G, a2G, a1DK, a2DK) - c2G - c2DK\n",
    "\n",
    "\n",
    "def constraint3(x):\n",
    "   c1G, c1DK  = x[0], x[2]\n",
    "   return y1DK(a1G, a2G, a1DK, a2DK) - c1G - c1DK\n",
    "\n",
    "\n",
    "def constraint4(x):\n",
    "   c2G, c2DK = x[1], x[3]\n",
    "   return y2DK(a1G, a2G, a1DK, a2DK) - c2G - c2DK\n",
    "\n",
    "\n",
    "cons = [{'type':'ineq', 'fun':constraint1},\n",
    "       {'type':'ineq', 'fun':constraint2},\n",
    "       {'type':'ineq', 'fun':constraint3},\n",
    "       {'type':'ineq', 'fun':constraint4}]\n",
    "\n",
    "\n",
    "x0 = [3, 6, 1, 2]\n",
    "\n",
    "\n",
    "res = minimize(lambda x: -u1(x[0], x[1]) - u2(x[2], x[3]), x0, constraints=cons)\n",
    "\n",
    "\n",
    "print(res)\n"
   ]
  },
  {
   "cell_type": "code",
   "execution_count": 181,
   "metadata": {},
   "outputs": [
    {
     "name": "stdout",
     "output_type": "stream",
     "text": [
      "Trade provides\n",
      "Utility under autarky: 500.00000000000006\n",
      "Utility under trade: 822949122005236.2\n",
      "Consumption quantities under trade for Germany: [4.11474559e+14 4.11474559e+14]\n",
      "Consumption quantities under trade for Denmark: [4.11474563e+14 4.11474563e+14]\n"
     ]
    }
   ],
   "source": [
    "from scipy.optimize import minimize\n",
    "\n",
    "\n",
    "# Production function\n",
    "def production_function(a, L):\n",
    "    return a * L\n",
    "\n",
    "\n",
    "# Utility function\n",
    "def utility_func(c1, c2, alpha):\n",
    "    return c1 ** alpha * c2 ** (1 - alpha)\n",
    "\n",
    "\n",
    "# Utility function with alpha parameter\n",
    "def utility(x, alpha):\n",
    "    c1, c2 = x\n",
    "    return c1 ** alpha * c2 ** (1 - alpha)\n",
    "\n",
    "\n",
    "# PPF constraint function\n",
    "def constraint_ppf(x, a1, a2):\n",
    "    c1, c2 = x\n",
    "    return a1 - c1 + (a2 / a1) * c2\n",
    "\n",
    "\n",
    "# Constants for autarky\n",
    "a1_autarky = 100\n",
    "a2_autarky = 100\n",
    "p_autarky = 1\n",
    "\n",
    "# Constants for trade\n",
    "a1_Germany = 100\n",
    "a2_Germany = 100\n",
    "a1_Denmark = 100\n",
    "a2_Denmark = 100\n",
    "p_Germany = 1\n",
    "p_Denmark = 1\n",
    "\n",
    "# Initial guess for consumption quantities\n",
    "x0_trade = [50, 50, 50, 50]\n",
    "\n",
    "# Constraints for trade\n",
    "cons_trade = [{'type': 'ineq', 'fun': lambda x: production_function(a1_Germany, x[0]) - x[1]},\n",
    "              {'type': 'ineq', 'fun': lambda x: production_function(a1_Denmark, x[2]) - x[3]},\n",
    "              {'type': 'ineq', 'fun': lambda x: p_Germany * x[0] + p_Denmark * x[2] - (p_Germany * x[1] + p_Denmark * x[3])},\n",
    "              {'type': 'eq', 'fun': lambda x: constraint_ppf([x[0], x[1]], a1_Germany, a2_Germany)},\n",
    "              {'type': 'eq', 'fun': lambda x: constraint_ppf([x[2], x[3]], a1_Denmark, a2_Denmark)}]\n",
    "\n",
    "# Optimization for consumption quantities under trade\n",
    "res_trade = minimize(lambda x: -utility(x[:2], 0.5) - utility(x[2:], 0.5), x0_trade, constraints=cons_trade, method='SLSQP')\n",
    "\n",
    "# Calculate utility under trade\n",
    "utility_trade = -res_trade.fun\n",
    "\n",
    "# Calculate utility under autarky\n",
    "x_autarky = [production_function(a1_autarky, a1_autarky/2), a1_autarky/2]\n",
    "utility_autarky = utility(x_autarky, 0.5)\n",
    "\n",
    "# Compare utility under trade and autarky\n",
    "if utility_trade > utility_autarky:\n",
    "    print(\"Trade provides\")\n",
    "\n",
    "print(\"Utility under autarky:\", utility_autarky)\n",
    "print(\"Utility under trade:\", utility_trade)\n",
    "print(\"Consumption quantities under trade for Germany:\", res_trade.x[:2])\n",
    "print(\"Consumption quantities under trade for Denmark:\", res_trade.x[2:])\n",
    "\n",
    "\n",
    "\n"
   ]
  },
  {
   "attachments": {},
   "cell_type": "markdown",
   "metadata": {},
   "source": [
    "Since the autarky price in Denmark is much higher than in Germany, the aggregate consumption is much lower."
   ]
  },
  {
   "cell_type": "markdown",
   "metadata": {},
   "source": [
    "# Further analysis"
   ]
  },
  {
   "cell_type": "markdown",
   "metadata": {},
   "source": [
    "Make detailed vizualizations of how your model changes with parameter values. \n",
    "\n",
    "Try to make an extension of the model. "
   ]
  },
  {
   "cell_type": "markdown",
   "metadata": {},
   "source": [
    "# Conclusion"
   ]
  },
  {
   "cell_type": "markdown",
   "metadata": {},
   "source": [
    "Add concise conclusion. "
   ]
  }
 ],
 "metadata": {
  "kernelspec": {
   "display_name": "base",
   "language": "python",
   "name": "python3"
  },
  "language_info": {
   "codemirror_mode": {
    "name": "ipython",
    "version": 3
   },
   "file_extension": ".py",
   "mimetype": "text/x-python",
   "name": "python",
   "nbconvert_exporter": "python",
   "pygments_lexer": "ipython3",
   "version": "3.9.16"
  },
  "toc-autonumbering": true,
  "vscode": {
   "interpreter": {
    "hash": "7db7b69fde20000a56018626e4abdffb71e8631d10a662cce493615e971806dc"
   }
  }
 },
 "nbformat": 4,
 "nbformat_minor": 4
}
