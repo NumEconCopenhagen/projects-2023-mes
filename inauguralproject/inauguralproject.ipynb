{
 "cells": [
  {
   "cell_type": "markdown",
   "metadata": {},
   "source": [
    "# Inaugural Project"
   ]
  },
  {
   "attachments": {},
   "cell_type": "markdown",
   "metadata": {},
   "source": [
    "> **Note the following:** \n",
    "> 1. This is an example of how to structure your **inaugural project**.\n",
    "> 1. Remember the general advice on structuring and commenting your code\n",
    "> 1. The `inauguralproject.py` file includes a function which can be used multiple times in this notebook."
   ]
  },
  {
   "cell_type": "markdown",
   "metadata": {},
   "source": [
    "Imports and set magics:"
   ]
  },
  {
   "cell_type": "code",
   "execution_count": 1,
   "metadata": {},
   "outputs": [],
   "source": [
    "import numpy as np\n",
    "\n",
    "# autoreload modules when code is run. Otherwise, python will not see recent changes. \n",
    "%load_ext autoreload\n",
    "%autoreload 2\n",
    "\n",
    "import numpy as np\n",
    "\n",
    "from inauguralproject import HouseholdSpecializationModelClass\n",
    "%reload_ext autoreload\n",
    "%autoreload 2"
   ]
  },
  {
   "cell_type": "markdown",
   "metadata": {},
   "source": [
    "# Question 1"
   ]
  },
  {
   "cell_type": "markdown",
   "metadata": {},
   "source": [
    "**Explain how you solve the model**"
   ]
  },
  {
   "cell_type": "code",
   "execution_count": 2,
   "metadata": {},
   "outputs": [
    {
     "name": "stdout",
     "output_type": "stream",
     "text": [
      "The change of HF and HM depending on different alphas and sigmas \n",
      "\n"
     ]
    },
    {
     "name": "stderr",
     "output_type": "stream",
     "text": [
      "c:\\Users\\simon\\OneDrive\\Dokumente\\KU - Master\\2.Semester\\Python Intro\\projects-2023-mes\\projects-2023-mes-6\\inauguralproject\\inauguralproject.py:80: RuntimeWarning: divide by zero encountered in reciprocal\n",
      "  H = ((1-par.alpha)*HM**((par.sigma-1)/par.sigma)+par.alpha*HF**((par.sigma-1)/par.sigma))**(par.sigma/(par.sigma-1))\n"
     ]
    },
    {
     "name": "stdout",
     "output_type": "stream",
     "text": [
      "alpha=0.25, sigma=0.50  -->  HF=3.00, HM=5.50  -->  HF/HM=0.55\n",
      "alpha=0.50, sigma=0.50  -->  HF=4.50, HM=4.50  -->  HF/HM=1.00\n",
      "alpha=0.75, sigma=0.50  -->  HF=5.50, HM=3.00  -->  HF/HM=1.83\n",
      "alpha=0.25, sigma=1.00  -->  HF=2.00, HM=6.50  -->  HF/HM=0.31\n",
      "alpha=0.50, sigma=1.00  -->  HF=4.50, HM=4.50  -->  HF/HM=1.00\n",
      "alpha=0.75, sigma=1.00  -->  HF=6.50, HM=2.00  -->  HF/HM=3.25\n",
      "alpha=0.25, sigma=1.50  -->  HF=1.50, HM=7.00  -->  HF/HM=0.21\n",
      "alpha=0.50, sigma=1.50  -->  HF=4.50, HM=4.50  -->  HF/HM=1.00\n",
      "alpha=0.75, sigma=1.50  -->  HF=7.00, HM=1.50  -->  HF/HM=4.67\n",
      "\n",
      " \n",
      " The illustration of the Ratio \n",
      "\n",
      "╒═════╤══════════╤═══════╤═════════╕\n",
      "│     │     0.25 │   0.5 │    0.75 │\n",
      "╞═════╪══════════╪═══════╪═════════╡\n",
      "│ 0.5 │ 0.545455 │     1 │ 1.83333 │\n",
      "├─────┼──────────┼───────┼─────────┤\n",
      "│ 1   │ 0.307692 │     1 │ 3.25    │\n",
      "├─────┼──────────┼───────┼─────────┤\n",
      "│ 1.5 │ 0.214286 │     1 │ 4.66667 │\n",
      "╘═════╧══════════╧═══════╧═════════╛\n"
     ]
    }
   ],
   "source": [
    "# code for solving the model (remember documentation and comments)\n",
    "\n",
    "model = HouseholdSpecializationModelClass()\n",
    "\n",
    "# Exercise 1\n",
    "\n",
    "a = [0.25, 0.50, 0.75]\n",
    "s = [0.50, 1.0, 1.5]\n",
    "\n",
    "print('The change of HF and HM depending on different alphas and sigmas', '\\n')\n",
    "\n",
    "for i in s:\n",
    "    model.par.sigma = i\n",
    "    for j in a:\n",
    "        model.par.alpha = j\n",
    "        opt = model.solve_discrete()\n",
    "        HF = opt.HF\n",
    "        HM = opt.HM\n",
    "        HFdividedHM = opt.HF/opt.HM\n",
    "\n",
    "        print(f\"alpha={j:.2f}, sigma={i:.2f}  -->  HF={HF:.2f}, HM={HM:.2f}  -->  HF/HM={HFdividedHM:.2f}\")\n",
    "\n",
    " \n",
    "from tabulate import tabulate \n",
    "\n",
    "info = {\n",
    "    '0.25': [3/5.5, 2/6.5, 1.5/7],\n",
    "    '0.5' : [1, 1, 1],\n",
    "    '0.75': [5.5/3, 6.5/2, 7/1.5]\n",
    "}\n",
    "\n",
    "print('\\n', '\\n', 'The illustration of the Ratio', '\\n')\n",
    "\n",
    "print(tabulate(info, headers = 'keys', tablefmt='fancy_grid', showindex=(0.5,1,1.5)))\n",
    "\n",
    "\n"
   ]
  },
  {
   "cell_type": "markdown",
   "metadata": {},
   "source": [
    "# Question 2"
   ]
  },
  {
   "cell_type": "markdown",
   "metadata": {},
   "source": [
    "Explain your code and procedure"
   ]
  },
  {
   "cell_type": "code",
   "execution_count": 3,
   "metadata": {},
   "outputs": [
    {
     "name": "stdout",
     "output_type": "stream",
     "text": [
      "Kurpark_h: [0.22314355131420976, 0.0, 0.0, -0.11778303565638351, -0.2231435513142097]\n",
      "BWK_w: [-0.2231435513142097, -0.10536051565782628, 0.0, 0.09531017980432493, 0.1823215567939546]\n"
     ]
    },
    {
     "data": {
      "image/png": "[encoded data removed]",
      "text/plain": [
       "<Figure size 640x480 with 1 Axes>"
      ]
     },
     "metadata": {},
     "output_type": "display_data"
    }
   ],
   "source": [
    "# code\n",
    "\n",
    "import math\n",
    "from matplotlib import pyplot as plt\n",
    "\n",
    "model = HouseholdSpecializationModelClass()\n",
    "\n",
    "w = [0.8, 0.9, 1, 1.1, 1.2]\n",
    "Kurpark_h = []\n",
    "\n",
    "for i in w:\n",
    "    model.par.wF = i\n",
    "    justus = model.solve_discrete()\n",
    "    HF = justus.HF\n",
    "    HM = justus.HM\n",
    "    Kurpark_h.append(math.log(HF/HM))\n",
    "\n",
    "BWK_w = []\n",
    "\n",
    "for j in w:\n",
    "    BWK_w.append(math.log(j/1))\n",
    "\n",
    "print(\"Kurpark_h:\", Kurpark_h)\n",
    "print (\"BWK_w:\", BWK_w)\n",
    "\n",
    "\n",
    "plt.scatter(Kurpark_h, BWK_w)\n",
    "plt.ylabel(\"log(WF/WM)\")\n",
    "plt.xlabel(\"log(HF/HM)\")\n",
    "plt.show()\n",
    "\n",
    "\n",
    "    "
   ]
  },
  {
   "cell_type": "markdown",
   "metadata": {},
   "source": [
    "# Question 3"
   ]
  },
  {
   "cell_type": "markdown",
   "metadata": {},
   "source": [
    "Explain your code and procedure"
   ]
  },
  {
   "cell_type": "code",
   "execution_count": 4,
   "metadata": {},
   "outputs": [
    {
     "data": {
      "text/plain": [
       "namespace(LM=4.454526956737588,\n",
       "          HM=4.454486385710032,\n",
       "          LF=4.454479205529973,\n",
       "          HF=4.454493213890576)"
      ]
     },
     "execution_count": 4,
     "metadata": {},
     "output_type": "execute_result"
    }
   ],
   "source": [
    "model = HouseholdSpecializationModelClass()\n",
    "\n",
    "model.solve_continuously()\n"
   ]
  },
  {
   "cell_type": "code",
   "execution_count": 26,
   "metadata": {},
   "outputs": [
    {
     "name": "stdout",
     "output_type": "stream",
     "text": [
      "The optimal values of LM, LF, HM, HF depending on wF\n",
      "wF=0.8  -->  LM=5.889, LF=4.09, HM=2.870, HF=5.116\n",
      "wF=0.9  -->  LM=5.168, LF=4.27, HM=3.749, HF=4.746\n",
      "wF=1.0  -->  LM=4.454, LF=4.45, HM=4.454, HF=4.455\n",
      "wF=1.1  -->  LM=3.760, LF=4.64, HM=5.022, HF=4.220\n",
      "wF=1.2  -->  LM=0.000, LF=6.25, HM=7.212, HF=3.606\n",
      "\n",
      " \n",
      " Same results as Dataframe\n",
      " wF       LM       LF       HM       HF\n",
      "0.8 5.889251 4.092584 2.869785 5.115687\n",
      "0.9 5.167728 4.271034 3.749286 4.745642\n",
      "1.0 4.454488 4.454480 4.454484 4.454521\n",
      "1.1 3.759820 4.641951 5.021923 4.219954\n",
      "1.2 0.000000 6.245691 7.211982 3.605951\n",
      "\n",
      " \n",
      " The visualization of the log(HF/HM) against the log(wF/wM)\n"
     ]
    },
    {
     "data": {
      "image/png": "[encoded data removed]",
      "text/plain": [
       "<Figure size 640x480 with 1 Axes>"
      ]
     },
     "metadata": {},
     "output_type": "display_data"
    }
   ],
   "source": [
    "import pandas as pd\n",
    "\n",
    "# save the class as 'model'\n",
    "model = HouseholdSpecializationModelClass()\n",
    "\n",
    "# A. define an empty list to store the results from the upcoming for loop\n",
    "optimal_values = []\n",
    "\n",
    "# Printing a heading\n",
    "print('The optimal values of LM, LF, HM, HF depending on wF')\n",
    "\n",
    "# B. creating a for loop to solve the model for varying wF's\n",
    "for wF in model.par.wF_vec:\n",
    "    model.par.wF = wF\n",
    "    model.solve_continous() # solve the model for the different values of wF\n",
    "    optimal_values.append((wF, model.sol.LM, model.sol.LF, model.sol.HM, model.sol.HF)) # append the solutions to the empty list 'optimal_values'\n",
    "    print(f\"wF={wF:.1f}  -->  LM={model.sol.LM:.3f}, LF={model.sol.LF:.2f}, HM={model.sol.HM:.3f}, HF={model.sol.HF:.3f}\") # printing the results\n",
    "\n",
    "# C. Convert the results to a pandas DataFrame for easier manipulation\n",
    "df = pd.DataFrame(optimal_values, columns=[\"wF\", \"LM\", \"LF\", \"HM\", \"HF\"]) # create the dataFrame df with the results from above\n",
    "print('\\n', '\\n', \"Same results as Dataframe\") # Printing a header\n",
    "print(df.to_string(index=False)) # printing the DataFrame with excluding the index column\n",
    "\n",
    "# D. extract colums from Pandas Data Frame and store them as new lists\n",
    "a1 = df['HF'].tolist()\n",
    "a2 = df['HM'].tolist()\n",
    "a3 = df['wF'].tolist()\n",
    "\n",
    "# E. Take the logs of the ratios HF/HM and wF/wM\n",
    "log_a1_a2 = [math.log(a1[i] / a2[i]) for i in range(len(a1))]\n",
    "log_a3 = [math.log(a3[i]) for i in range(len(a3))]\n",
    "\n",
    "# Plot the log ratios\n",
    "plt.scatter(log_a3, log_a1_a2)\n",
    "plt.ylabel(\"log(HF/HM)\")\n",
    "plt.xlabel(\"log(wF/wM)\")\n",
    "print('\\n', '\\n', 'The visualization of the log(HF/HM) against the log(wF/wM)') # Header\n",
    "plt.show()"
   ]
  },
  {
   "cell_type": "markdown",
   "metadata": {},
   "source": [
    "ADD CONCISE CONLUSION."
   ]
  },
  {
   "attachments": {},
   "cell_type": "markdown",
   "metadata": {},
   "source": [
    "# Question 4"
   ]
  },
  {
   "cell_type": "code",
   "execution_count": 25,
   "metadata": {},
   "outputs": [
    {
     "ename": "AttributeError",
     "evalue": "'NoneType' object has no attribute 'HF'",
     "output_type": "error",
     "traceback": [
      "\u001b[1;31m---------------------------------------------------------------------------\u001b[0m",
      "\u001b[1;31mAttributeError\u001b[0m                            Traceback (most recent call last)",
      "\u001b[1;32m~\\AppData\\Local\\Temp\\ipykernel_18544\\2914404671.py\u001b[0m in \u001b[0;36m<module>\u001b[1;34m\u001b[0m\n\u001b[0;32m     14\u001b[0m     \u001b[0mmodel\u001b[0m\u001b[1;33m.\u001b[0m\u001b[0mpar\u001b[0m\u001b[1;33m.\u001b[0m\u001b[0mwF\u001b[0m \u001b[1;33m=\u001b[0m \u001b[0mi\u001b[0m\u001b[1;33m\u001b[0m\u001b[1;33m\u001b[0m\u001b[0m\n\u001b[0;32m     15\u001b[0m     \u001b[0mjustus\u001b[0m \u001b[1;33m=\u001b[0m \u001b[0mmodel\u001b[0m\u001b[1;33m.\u001b[0m\u001b[0msolve_continous\u001b[0m\u001b[1;33m(\u001b[0m\u001b[1;33m)\u001b[0m\u001b[1;33m\u001b[0m\u001b[1;33m\u001b[0m\u001b[0m\n\u001b[1;32m---> 16\u001b[1;33m     \u001b[0mHF\u001b[0m \u001b[1;33m=\u001b[0m \u001b[0mjustus\u001b[0m\u001b[1;33m.\u001b[0m\u001b[0mHF\u001b[0m\u001b[1;33m\u001b[0m\u001b[1;33m\u001b[0m\u001b[0m\n\u001b[0m\u001b[0;32m     17\u001b[0m     \u001b[0mHM\u001b[0m \u001b[1;33m=\u001b[0m \u001b[0mjustus\u001b[0m\u001b[1;33m.\u001b[0m\u001b[0mHM\u001b[0m\u001b[1;33m\u001b[0m\u001b[1;33m\u001b[0m\u001b[0m\n\u001b[0;32m     18\u001b[0m     \u001b[0mKurpark_h\u001b[0m\u001b[1;33m.\u001b[0m\u001b[0mappend\u001b[0m\u001b[1;33m(\u001b[0m\u001b[0mmath\u001b[0m\u001b[1;33m.\u001b[0m\u001b[0mlog\u001b[0m\u001b[1;33m(\u001b[0m\u001b[0mHF\u001b[0m\u001b[1;33m/\u001b[0m\u001b[0mHM\u001b[0m\u001b[1;33m)\u001b[0m\u001b[1;33m)\u001b[0m\u001b[1;33m\u001b[0m\u001b[1;33m\u001b[0m\u001b[0m\n",
      "\u001b[1;31mAttributeError\u001b[0m: 'NoneType' object has no attribute 'HF'"
     ]
    }
   ],
   "source": [
    "# Solution with changing alpha and sigma manually in the .py file\n",
    "\n",
    "model = HouseholdSpecializationModelClass()\n",
    "\n",
    "model.par.alpha = 0.1\n",
    "model.par.sigma = 0.5\n",
    "\n",
    "w = [0.8, 0.9, 1, 1.1, 1.2]\n",
    "Kurpark_h = []\n",
    "placeholder_HF = []\n",
    "placeholder_HM = []\n",
    "\n",
    "for i in w:\n",
    "    model.par.wF = i\n",
    "    justus = model.solve_continous()\n",
    "    HF = justus.HF\n",
    "    HM = justus.HM\n",
    "    Kurpark_h.append(math.log(HF/HM))\n",
    "    placeholder_HF.append(HF)\n",
    "    placeholder_HM.append(HM)\n",
    "\n",
    "k = np.array(placeholder_HF)\n",
    "l = np.array(placeholder_HM)\n",
    "\n",
    "model.sol.HF_vec = k\n",
    "model.sol.HM_vec = l\n",
    "\n",
    "\n",
    "print(model.sol.HF_vec)\n",
    "\n",
    "model.run_regression()\n",
    "\n",
    "\n",
    "\n"
   ]
  },
  {
   "cell_type": "code",
   "execution_count": 20,
   "metadata": {},
   "outputs": [
    {
     "name": "stdout",
     "output_type": "stream",
     "text": [
      "beta0 =  0.40000000000000036 beta1 =  0.0\n"
     ]
    }
   ],
   "source": [
    "# solution using an optimizing function for alpha and sigma\n",
    "\n",
    "model = HouseholdSpecializationModelClass()\n",
    "\n",
    "model.estimate()"
   ]
  }
 ],
 "metadata": {
  "kernelspec": {
   "display_name": "base",
   "language": "python",
   "name": "python3"
  },
  "language_info": {
   "codemirror_mode": {
    "name": "ipython",
    "version": 3
   },
   "file_extension": ".py",
   "mimetype": "text/x-python",
   "name": "python",
   "nbconvert_exporter": "python",
   "pygments_lexer": "ipython3",
   "version": "3.9.16"
  },
  "toc-autonumbering": true,
  "vscode": {
   "interpreter": {
    "hash": "7db7b69fde20000a56018626e4abdffb71e8631d10a662cce493615e971806dc"
   }
  }
 },
 "nbformat": 4,
 "nbformat_minor": 4
}
