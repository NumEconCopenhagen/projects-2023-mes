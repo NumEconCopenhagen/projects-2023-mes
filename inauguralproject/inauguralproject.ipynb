{
 "cells": [
  {
   "cell_type": "markdown",
   "metadata": {},
   "source": [
    "# Inaugural Project"
   ]
  },
  {
   "attachments": {},
   "cell_type": "markdown",
   "metadata": {},
   "source": [
    "> **Note the following:** \n",
    "> 1. This is an example of how to structure your **inaugural project**.\n",
    "> 1. Remember the general advice on structuring and commenting your code\n",
    "> 1. The `inauguralproject.py` file includes a function which can be used multiple times in this notebook."
   ]
  },
  {
   "cell_type": "markdown",
   "metadata": {},
   "source": [
    "Imports and set magics:"
   ]
  },
  {
   "cell_type": "code",
   "execution_count": 1,
   "metadata": {},
   "outputs": [],
   "source": [
    "import numpy as np\n",
    "\n",
    "# autoreload modules when code is run. Otherwise, python will not see recent changes. \n",
    "%load_ext autoreload\n",
    "%autoreload 2\n",
    "\n",
    "import numpy as np\n",
    "\n",
    "from inauguralproject import HouseholdSpecializationModelClass\n",
    "%reload_ext autoreload\n",
    "%autoreload 2"
   ]
  },
  {
   "cell_type": "markdown",
   "metadata": {},
   "source": [
    "# Question 1"
   ]
  },
  {
   "cell_type": "markdown",
   "metadata": {},
   "source": [
    "**Explain how you solve the model**"
   ]
  },
  {
   "cell_type": "code",
   "execution_count": 23,
   "metadata": {},
   "outputs": [
    {
     "name": "stderr",
     "output_type": "stream",
     "text": [
      "c:\\Users\\simon\\OneDrive\\Dokumente\\KU - Master\\2.Semester\\Python Intro\\projects-2023-mes\\projects-2023-mes-4\\inauguralproject\\inauguralproject.py:80: RuntimeWarning: divide by zero encountered in reciprocal\n",
      "  H = ((1-par.alpha)*HM**((par.sigma-1)/par.sigma)+par.alpha*HF**((par.sigma-1)/par.sigma))**(par.sigma/(par.sigma-1))\n"
     ]
    },
    {
     "name": "stdout",
     "output_type": "stream",
     "text": [
      "alpha=0.25, sigma=0.5, HF=3.0, HM=5.5, HF/HM=0.5454545454545454\n",
      "alpha=0.5, sigma=0.5, HF=4.5, HM=4.5, HF/HM=1.0\n",
      "alpha=0.75, sigma=0.5, HF=5.5, HM=3.0, HF/HM=1.8333333333333333\n",
      "alpha=0.25, sigma=1, HF=2.0, HM=6.5, HF/HM=0.3076923076923077\n",
      "alpha=0.5, sigma=1, HF=4.5, HM=4.5, HF/HM=1.0\n",
      "alpha=0.75, sigma=1, HF=6.5, HM=2.0, HF/HM=3.25\n",
      "alpha=0.25, sigma=1.5, HF=1.5, HM=7.0, HF/HM=0.21428571428571427\n",
      "alpha=0.5, sigma=1.5, HF=4.5, HM=4.5, HF/HM=1.0\n",
      "alpha=0.75, sigma=1.5, HF=7.0, HM=1.5, HF/HM=4.666666666666667\n"
     ]
    }
   ],
   "source": [
    "# code for solving the model (remember documentation and comments)\n",
    "\n",
    "model = HouseholdSpecializationModelClass()\n",
    "\n",
    "a = [0.25, 0.5, 0.75]\n",
    "s = [0.5, 1, 1.5]\n",
    "\n",
    "\n",
    "for i in s:\n",
    "    model.par.sigma = i\n",
    "    for j in a:\n",
    "        model.par.alpha = j\n",
    "        opt = model.solve_discrete()\n",
    "        HF = opt.HF\n",
    "        HM = opt.HM\n",
    "        HFdividedHM = opt.HF/opt.HM\n",
    "\n",
    "        print(f\"alpha={j}, sigma={i}, HF={HF}, HM={HM}, HF/HM={HFdividedHM}\")\n",
    "\n",
    "\n"
   ]
  },
  {
   "cell_type": "markdown",
   "metadata": {},
   "source": [
    "# Question 2"
   ]
  },
  {
   "cell_type": "markdown",
   "metadata": {},
   "source": [
    "Explain your code and procedure"
   ]
  },
  {
   "cell_type": "code",
   "execution_count": 24,
   "metadata": {},
   "outputs": [
    {
     "name": "stdout",
     "output_type": "stream",
     "text": [
      "Kurpark_h: [0.22314355131420976, 0.0, 0.0, -0.11778303565638351, -0.2231435513142097]\n",
      "BWK_w: [-0.2231435513142097, -0.10536051565782628, 0.0, 0.09531017980432493, 0.1823215567939546]\n"
     ]
    },
    {
     "data": {
      "image/png": "[encoded data removed]",
      "text/plain": [
       "<Figure size 640x480 with 1 Axes>"
      ]
     },
     "metadata": {},
     "output_type": "display_data"
    }
   ],
   "source": [
    "# code\n",
    "\n",
    "import math\n",
    "from matplotlib import pyplot as plt\n",
    "\n",
    "model = HouseholdSpecializationModelClass()\n",
    "\n",
    "w = [0.8, 0.9, 1, 1.1, 1.2]\n",
    "Kurpark_h = []\n",
    "\n",
    "for i in w:\n",
    "    model.par.wF = i\n",
    "    justus = model.solve_discrete()\n",
    "    HF = justus.HF\n",
    "    HM = justus.HM\n",
    "    Kurpark_h.append(math.log(HF/HM))\n",
    "\n",
    "BWK_w = []\n",
    "\n",
    "for j in w:\n",
    "    BWK_w.append(math.log(j/1))\n",
    "\n",
    "print(\"Kurpark_h:\", Kurpark_h)\n",
    "print (\"BWK_w:\", BWK_w)\n",
    "\n",
    "\n",
    "plt.scatter(Kurpark_h, BWK_w)\n",
    "plt.ylabel(\"log(WF/WM)\")\n",
    "plt.xlabel(\"log(HF/HM)\")\n",
    "plt.show()\n",
    "\n",
    "\n",
    "    "
   ]
  },
  {
   "cell_type": "markdown",
   "metadata": {},
   "source": [
    "# Question 3"
   ]
  },
  {
   "cell_type": "markdown",
   "metadata": {},
   "source": [
    "Explain your code and procedure"
   ]
  },
  {
   "cell_type": "code",
   "execution_count": 4,
   "metadata": {},
   "outputs": [],
   "source": [
    "# code"
   ]
  },
  {
   "cell_type": "markdown",
   "metadata": {},
   "source": [
    "ADD CONCISE CONLUSION."
   ]
  }
 ],
 "metadata": {
  "kernelspec": {
   "display_name": "base",
   "language": "python",
   "name": "python3"
  },
  "language_info": {
   "codemirror_mode": {
    "name": "ipython",
    "version": 3
   },
   "file_extension": ".py",
   "mimetype": "text/x-python",
   "name": "python",
   "nbconvert_exporter": "python",
   "pygments_lexer": "ipython3",
   "version": "3.9.16"
  },
  "toc-autonumbering": true,
  "vscode": {
   "interpreter": {
    "hash": "7db7b69fde20000a56018626e4abdffb71e8631d10a662cce493615e971806dc"
   }
  }
 },
 "nbformat": 4,
 "nbformat_minor": 4
}
