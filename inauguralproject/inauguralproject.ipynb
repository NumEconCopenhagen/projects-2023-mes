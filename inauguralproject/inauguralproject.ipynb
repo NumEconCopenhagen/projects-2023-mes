{
 "cells": [
  {
   "cell_type": "markdown",
   "metadata": {},
   "source": [
    "# Inaugural Project"
   ]
  },
  {
   "attachments": {},
   "cell_type": "markdown",
   "metadata": {},
   "source": [
    "> **Note the following:** \n",
    "> 1. This is an example of how to structure your **inaugural project**.\n",
    "> 1. Remember the general advice on structuring and commenting your code\n",
    "> 1. The `inauguralproject.py` file includes a function which can be used multiple times in this notebook."
   ]
  },
  {
   "cell_type": "markdown",
   "metadata": {},
   "source": [
    "Imports and set magics:"
   ]
  },
  {
   "cell_type": "code",
   "execution_count": 17,
   "metadata": {},
   "outputs": [
    {
     "name": "stdout",
     "output_type": "stream",
     "text": [
      "The autoreload extension is already loaded. To reload it, use:\n",
      "  %reload_ext autoreload\n"
     ]
    }
   ],
   "source": [
    "import numpy as np\n",
    "\n",
    "# autoreload modules when code is run. Otherwise, python will not see recent changes. \n",
    "%load_ext autoreload\n",
    "%autoreload 2\n",
    "\n",
    "import numpy as np\n",
    "\n",
    "from inauguralproject import HouseholdSpecializationModelClass\n",
    "%reload_ext autoreload\n",
    "%autoreload 2"
   ]
  },
  {
   "cell_type": "markdown",
   "metadata": {},
   "source": [
    "# Question 1"
   ]
  },
  {
   "cell_type": "markdown",
   "metadata": {},
   "source": [
    "**Explain how you solve the model**"
   ]
  },
  {
   "cell_type": "code",
   "execution_count": 29,
   "metadata": {},
   "outputs": [
    {
     "name": "stdout",
     "output_type": "stream",
     "text": [
      "The change of HF and HM depending on different alphas and sigmas \n",
      "\n"
     ]
    },
    {
     "name": "stderr",
     "output_type": "stream",
     "text": [
      "/Users/esbenstein/Desktop/University of Copenhagen/Python/projects-2023-mes/inauguralproject/inauguralproject.py:81: RuntimeWarning: divide by zero encountered in reciprocal\n",
      "  H = ((1-par.alpha)*HM**((par.sigma-1)/par.sigma)+par.alpha*HF**((par.sigma-1)/par.sigma))**(par.sigma/(par.sigma-1))\n",
      "/Users/esbenstein/Desktop/University of Copenhagen/Python/projects-2023-mes/inauguralproject/inauguralproject.py:81: RuntimeWarning: invalid value encountered in reciprocal\n",
      "  H = ((1-par.alpha)*HM**((par.sigma-1)/par.sigma)+par.alpha*HF**((par.sigma-1)/par.sigma))**(par.sigma/(par.sigma-1))\n",
      "/Users/esbenstein/Desktop/University of Copenhagen/Python/projects-2023-mes/inauguralproject/inauguralproject.py:86: RuntimeWarning: invalid value encountered in reciprocal\n",
      "  utility = np.fmax(Q,1e-8)**(1-par.rho)/(1-par.rho)\n"
     ]
    },
    {
     "name": "stdout",
     "output_type": "stream",
     "text": [
      "alpha=0.25, sigma=0.50  -->  HF=3.00, HM=5.50  -->  HF/HM=0.55\n",
      "alpha=0.50, sigma=0.50  -->  HF=4.50, HM=4.50  -->  HF/HM=1.00\n",
      "alpha=0.75, sigma=0.50  -->  HF=5.50, HM=3.00  -->  HF/HM=1.83\n",
      "alpha=0.25, sigma=1.00  -->  HF=2.00, HM=6.50  -->  HF/HM=0.31\n",
      "alpha=0.50, sigma=1.00  -->  HF=4.50, HM=4.50  -->  HF/HM=1.00\n",
      "alpha=0.75, sigma=1.00  -->  HF=6.50, HM=2.00  -->  HF/HM=3.25\n",
      "alpha=0.25, sigma=1.50  -->  HF=1.50, HM=7.00  -->  HF/HM=0.21\n",
      "alpha=0.50, sigma=1.50  -->  HF=4.50, HM=4.50  -->  HF/HM=1.00\n",
      "alpha=0.75, sigma=1.50  -->  HF=7.00, HM=1.50  -->  HF/HM=4.67\n",
      "\n",
      " \n",
      " Visualization of the dataFrame\n",
      "           alpha:0.25  alpha:0.5  alpha:0.75\n",
      "sigma:0.5    0.545455        1.0    1.833333\n",
      "sigma:1.0    0.307692        1.0    3.250000\n",
      "sigma:1.5    0.214286        1.0    4.666667\n"
     ]
    }
   ],
   "source": [
    "# Question 1\n",
    "# safe the Class as Model\n",
    "model = HouseholdSpecializationModelClass()\n",
    "\n",
    "# create two seperate lists for the varying alphas and sigmas\n",
    "varying_alpha = [0.25, 0.50, 0.75]\n",
    "varying_sigma = [0.50, 1.0, 1.5]\n",
    "\n",
    "# print the header for the results\n",
    "print('The change of HF and HM depending on different alphas and sigmas', '\\n')\n",
    "\n",
    "# create empty lists for the optimal values of HF, HM and the ratio HF/HM\n",
    "HF_star = []\n",
    "HM_star = []\n",
    "HF_divided_HM_star = []\n",
    "\n",
    "# create the nested for loops to solve the discrete model for varying alphas and sigmas\n",
    "for i in varying_sigma:\n",
    "    model.par.sigma = i # loop over different sigmas \n",
    "    for j in varying_alpha:\n",
    "        model.par.alpha = j # loop over different alphas\n",
    "        opt = model.solve_discrete() # solve the model \n",
    "        HF = opt.HF # rename optimal solutions HF and HM\n",
    "        HM = opt.HM\n",
    "        HF_divided_HM = opt.HF/opt.HM # create the ratio of HF and HM\n",
    "        HF_star.append(HF) # \n",
    "        HM_star.append(HM)\n",
    "        HF_divided_HM_star.append(HF_divided_HM)\n",
    "        print(f\"alpha={j:.2f}, sigma={i:.2f}  -->  HF={HF:.2f}, HM={HM:.2f}  -->  HF/HM={HF_divided_HM:.2f}\") # print the results of HF and HM for varying alphas and sigmas\n",
    "\n",
    "# Split the list HF_divided_HM_star into three seperate lists\n",
    "chunk_size = 3 # set the amount of elements in each list\n",
    "chunks = [HF_divided_HM_star[i:i + chunk_size] for i in range(0, len(HF_divided_HM_star), chunk_size)] # split HF_divided_HM_star into three lists with three elements each\n",
    "\n",
    "#create the dataFrame\n",
    "data1 = [chunks[0], chunks[1], chunks[2]] # create the input of the dataFrame\n",
    "dataFrame1 = pd.DataFrame(data1, columns = ['alpha:0.25', 'alpha:0.5', 'alpha:0.75'], index = ['sigma:0.5', 'sigma:1.0', 'sigma:1.5']) # create the whole dataFrame\n",
    "\n",
    "# Print the header for the data frame\n",
    "print('\\n', '\\n', 'Visualization of the dataFrame')\n",
    "\n",
    "# print the Pandas dataFrame\n",
    "print(dataFrame1)\n",
    "\n",
    "\n"
   ]
  },
  {
   "cell_type": "markdown",
   "metadata": {},
   "source": [
    "# Question 2"
   ]
  },
  {
   "cell_type": "markdown",
   "metadata": {},
   "source": [
    "Explain your code and procedure"
   ]
  },
  {
   "cell_type": "code",
   "execution_count": 30,
   "metadata": {},
   "outputs": [
    {
     "name": "stderr",
     "output_type": "stream",
     "text": [
      "/Users/esbenstein/Desktop/University of Copenhagen/Python/projects-2023-mes/inauguralproject/inauguralproject.py:86: RuntimeWarning: invalid value encountered in reciprocal\n",
      "  utility = np.fmax(Q,1e-8)**(1-par.rho)/(1-par.rho)\n"
     ]
    },
    {
     "name": "stdout",
     "output_type": "stream",
     "text": [
      "The optimal ratios of log HF/HM and log wF/wM\n",
      " log_HF_HM =  ['0.223', '0.000', '0.000', '-0.118', '-0.223'] \n",
      " log_WF_WM =  ['-0.223', '-0.105', '0.000', '0.095', '0.182']\n",
      "\n",
      " \n",
      " Visualisation of log HF/HM and logwF/wM\n"
     ]
    },
    {
     "data": {
      "image/png": "[encoded data removed]",
      "text/plain": [
       "<Figure size 640x480 with 1 Axes>"
      ]
     },
     "metadata": {},
     "output_type": "display_data"
    }
   ],
   "source": [
    "# Question 2\n",
    "# safe the Class as Model\n",
    "model = HouseholdSpecializationModelClass()\n",
    "\n",
    "# create an empty list for the log HF/HM\n",
    "log_HF_HM = []\n",
    "\n",
    "# loop over the different elements in wF_vec\n",
    "for i in model.par.wF_vec:\n",
    "    model.par.wF = i # set i to model.par.wF\n",
    "    discrete = model.solve_discrete() # solve the model for the different wF's\n",
    "    HF = discrete.HF # rename the solutions for HF and HM\n",
    "    HM = discrete.HM\n",
    "    log_HF_HM.append(math.log(HF/HM)) # append the log of HF/HM to the empty list log_HF_HM\n",
    "\n",
    "# create an empty list for the log WF/WM\n",
    "log_WF_WM = [] \n",
    "\n",
    "# loop over the different elements in wF_vec\n",
    "for j in model.par.wF_vec:\n",
    "    log_WF_WM.append(math.log(j/1)) # append the log of WF/WM to the empty list log_WF_WM (WM is constantly 1)\n",
    "\n",
    "# cut the solution lists to the first 3 decimal places\n",
    "formatted_log_HF_HM = ['{:.3f}'.format(num) for num in log_HF_HM]\n",
    "formatted_log_WF_WM = ['{:.3f}'.format(num) for num in log_WF_WM]\n",
    "\n",
    "# Header\n",
    "print('The optimal ratios of log HF/HM and log wF/wM')\n",
    "\n",
    "# Print the optimal solutions for the ratios\n",
    "print(' log_HF_HM = ', formatted_log_HF_HM, '\\n', 'log_WF_WM = ', formatted_log_WF_WM)\n",
    "\n",
    "# Plotting the optimal ratios\n",
    "plt.plot(log_WF_WM, log_HF_HM, 'o--')\n",
    "plt.ylabel(\"log(HF/HM)\")\n",
    "plt.xlabel(\"log(wF/wM)\")\n",
    "\n",
    "# Header\n",
    "print('\\n', '\\n', 'Visualisation of log HF/HM and logwF/wM')\n",
    "\n",
    "# show the plot\n",
    "plt.show()\n",
    "\n",
    "\n",
    "    "
   ]
  },
  {
   "cell_type": "markdown",
   "metadata": {},
   "source": [
    "# Question 3"
   ]
  },
  {
   "cell_type": "markdown",
   "metadata": {},
   "source": [
    "Explain your code and procedure"
   ]
  },
  {
   "cell_type": "code",
   "execution_count": 31,
   "metadata": {},
   "outputs": [
    {
     "name": "stdout",
     "output_type": "stream",
     "text": [
      "The optimal values of LM, LF, HM, HF depending on wF\n",
      "wF=0.8  -->  LM=5.889, LF=2.87, HM=4.093, HF=5.116\n",
      "wF=0.9  -->  LM=5.168, LF=3.75, HM=4.271, HF=4.746\n",
      "wF=1.0  -->  LM=4.454, LF=4.45, HM=4.454, HF=4.454\n",
      "wF=1.1  -->  LM=3.760, LF=5.02, HM=4.642, HF=4.220\n",
      "wF=1.2  -->  LM=3.090, LF=5.48, HM=4.833, HF=4.027\n",
      "\n",
      " \n",
      " The results as Dataframe\n",
      " wF       LM       LF       HM       HF\n",
      "0.8 5.889281 2.869767 4.092557 5.115715\n",
      "0.9 5.167690 3.749284 4.271092 4.745618\n",
      "1.0 4.454467 4.454511 4.454489 4.454452\n",
      "1.1 3.759798 5.021958 4.641971 4.219971\n",
      "1.2 3.089723 5.479646 4.832615 4.027201\n",
      "\n",
      " \n",
      " The visualization of the log(HF/HM) against the log(wF/wM)\n"
     ]
    },
    {
     "data": {
      "image/png": "[encoded data removed]",
      "text/plain": [
       "<Figure size 640x480 with 1 Axes>"
      ]
     },
     "metadata": {},
     "output_type": "display_data"
    }
   ],
   "source": [
    "# Question 3\n",
    "# save the class as 'model'\n",
    "model = HouseholdSpecializationModelClass()\n",
    "\n",
    "# A. define an empty list to store the results from the upcoming for loop\n",
    "optimal_values = []\n",
    "\n",
    "# Printing a heading\n",
    "print('The optimal values of LM, LF, HM, HF depending on wF')\n",
    "\n",
    "# B. creating a for loop to solve the model for varying wF's\n",
    "for wF in model.par.wF_vec:\n",
    "    model.par.wF = wF\n",
    "    model.solve_continous() # solve the model for the different values of wF\n",
    "    optimal_values.append((wF, model.sol.LM, model.sol.LF, model.sol.HM, model.sol.HF)) # append the solutions to the empty list 'optimal_values'\n",
    "    print(f\"wF={wF:.1f}  -->  LM={model.sol.LM:.3f}, LF={model.sol.LF:.2f}, HM={model.sol.HM:.3f}, HF={model.sol.HF:.3f}\") # printing the results\n",
    "\n",
    "# C. Convert the results to a pandas DataFrame for easier manipulation\n",
    "df = pd.DataFrame(optimal_values, columns=[\"wF\", \"LM\", \"LF\", \"HM\", \"HF\"]) # create the dataFrame df with the results from above\n",
    "print('\\n', '\\n', \"The results as Dataframe\") # Printing a header\n",
    "print(df.to_string(index=False)) # printing the DataFrame with excluding the index column\n",
    "\n",
    "# D. extract colums from Pandas Data Frame and store them as new lists\n",
    "a1 = df['HF'].tolist()\n",
    "a2 = df['HM'].tolist()\n",
    "a3 = df['wF'].tolist()\n",
    "\n",
    "# E. Take the logs of the ratios HF/HM and wF/wM\n",
    "log_a1_a2 = [math.log(a1[i] / a2[i]) for i in range(len(a1))]\n",
    "log_a3 = [math.log(a3[i]) for i in range(len(a3))]\n",
    "\n",
    "# Plot the log ratios\n",
    "plt.plot(log_a3, log_a1_a2, 'o--')\n",
    "plt.ylabel(\"log(HF/HM)\")\n",
    "plt.xlabel(\"log(wF/wM)\")\n",
    "print('\\n', '\\n', 'The visualization of the log(HF/HM) against the log(wF/wM)') # Header\n",
    "plt.show()"
   ]
  },
  {
   "cell_type": "markdown",
   "metadata": {},
   "source": [
    "ADD CONCISE CONLUSION."
   ]
  },
  {
   "attachments": {},
   "cell_type": "markdown",
   "metadata": {},
   "source": [
    "# Question 4"
   ]
  },
  {
   "cell_type": "code",
   "execution_count": 22,
   "metadata": {},
   "outputs": [
    {
     "name": "stdout",
     "output_type": "stream",
     "text": [
      "[5.49201547 5.34305855 5.22345163 5.12615874 5.04585715]\n",
      "beta0:  0.3999230536259665\n",
      "beta1:  -0.09996728033623793\n"
     ]
    }
   ],
   "source": [
    "# Solution with changing alpha and sigma manually in the .py file\n",
    "\n",
    "model = HouseholdSpecializationModelClass()\n",
    "\n",
    "model.par.alpha = 0.9820\n",
    "model.par.sigma = 0.1\n",
    "\n",
    "w = [0.8, 0.9, 1, 1.1, 1.2]\n",
    "Kurpark_h = []\n",
    "placeholder_HF = []\n",
    "placeholder_HM = []\n",
    "\n",
    "for wF in model.par.wF_vec:\n",
    "    model.par.wF = wF\n",
    "    model.solve_continous() # solve the model for the different values of wF\n",
    "    optimal_values.append((wF, model.sol.LM, model.sol.LF, model.sol.HM, model.sol.HF)) # append the solutions to the empty list 'optimal_values'\n",
    "    placeholder_HF.append(model.sol.HF)\n",
    "    placeholder_HM.append(model.sol.HM)\n",
    "\n",
    "k = np.array(placeholder_HF)\n",
    "l = np.array(placeholder_HM)\n",
    "\n",
    "model.sol.HF_vec = k\n",
    "model.sol.HM_vec = l\n",
    "\n",
    "\n",
    "print(model.sol.HF_vec)\n",
    "\n",
    "model.run_regression()\n",
    "\n",
    "\n",
    "\n"
   ]
  },
  {
   "cell_type": "code",
   "execution_count": 28,
   "metadata": {},
   "outputs": [
    {
     "name": "stdout",
     "output_type": "stream",
     "text": [
      "beta0:  1.1090413874458664\n",
      "beta1:  -0.7999614443312955\n",
      "beta0:  1.1090413874458664\n",
      "beta1:  -0.7999614443312955\n",
      "beta0:  1.1090413874458664\n",
      "beta1:  -0.7999614443312955\n",
      "Optimal values: alpha = 0.8000, sigma = 0.8000\n"
     ]
    }
   ],
   "source": [
    "from scipy.optimize import minimize\n",
    "# Define your target regression coefficients\n",
    "beta0 = 0.4\n",
    "beta1 = -0.1\n",
    "\n",
    "# Define your function to be minimized\n",
    "def objective_function(params):\n",
    "    alpha, sigma = params\n",
    "    model.par.alpha = alpha\n",
    "    model.par.sigma = sigma\n",
    "    w = [0.8, 0.9, 1, 1.1, 1.2]\n",
    "    placeholder_HF = []\n",
    "    placeholder_HM = []\n",
    "    for wF in model.par.wF_vec:\n",
    "        model.par.wF = wF\n",
    "        model.solve_continous() \n",
    "        placeholder_HF.append(model.sol.HF)\n",
    "        placeholder_HM.append(model.sol.HM)\n",
    "    k = np.array(placeholder_HF)\n",
    "    l = np.array(placeholder_HM)\n",
    "    model.sol.HF_vec = k\n",
    "    model.sol.HM_vec = l\n",
    "    model.run_regression()\n",
    "    return (model.sol.beta0 - beta0)**2 + (model.sol.beta1 - beta1)**2\n",
    "\n",
    "# Set bounds for alpha and sigma\n",
    "bounds = ((0.8, 1), (0.8, 1))\n",
    "\n",
    "# Run the optimization\n",
    "result = minimize(objective_function, x0=[0.5, 0.5], bounds=bounds)\n",
    "\n",
    "# Print the optimal values of alpha and sigma\n",
    "print(\"Optimal values: alpha = {:.4f}, sigma = {:.4f}\".format(result.x[0], result.x[1]))"
   ]
  }
 ],
 "metadata": {
  "kernelspec": {
   "display_name": "base",
   "language": "python",
   "name": "python3"
  },
  "language_info": {
   "codemirror_mode": {
    "name": "ipython",
    "version": 3
   },
   "file_extension": ".py",
   "mimetype": "text/x-python",
   "name": "python",
   "nbconvert_exporter": "python",
   "pygments_lexer": "ipython3",
   "version": "3.9.13"
  },
  "toc-autonumbering": true,
  "vscode": {
   "interpreter": {
    "hash": "7db7b69fde20000a56018626e4abdffb71e8631d10a662cce493615e971806dc"
   }
  }
 },
 "nbformat": 4,
 "nbformat_minor": 4
}
