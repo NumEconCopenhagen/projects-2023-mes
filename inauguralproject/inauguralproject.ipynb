{
 "cells": [
  {
   "cell_type": "markdown",
   "metadata": {},
   "source": [
    "# Inaugural Project"
   ]
  },
  {
   "attachments": {},
   "cell_type": "markdown",
   "metadata": {},
   "source": [
    "> **Note the following:** \n",
    "> 1. This is an example of how to structure your **inaugural project**.\n",
    "> 1. Remember the general advice on structuring and commenting your code\n",
    "> 1. The `inauguralproject.py` file includes a function which can be used multiple times in this notebook."
   ]
  },
  {
   "cell_type": "markdown",
   "metadata": {},
   "source": [
    "Imports and set magics:"
   ]
  },
  {
   "cell_type": "code",
   "execution_count": 30,
   "metadata": {},
   "outputs": [
    {
     "name": "stdout",
     "output_type": "stream",
     "text": [
      "The autoreload extension is already loaded. To reload it, use:\n",
      "  %reload_ext autoreload\n"
     ]
    }
   ],
   "source": [
    "import numpy as np\n",
    "\n",
    "# autoreload modules when code is run. Otherwise, python will not see recent changes. \n",
    "%load_ext autoreload\n",
    "%autoreload 2\n",
    "\n",
    "import numpy as np\n",
    "\n",
    "from inauguralproject import HouseholdSpecializationModelClass\n",
    "%reload_ext autoreload\n",
    "%autoreload 2"
   ]
  },
  {
   "cell_type": "markdown",
   "metadata": {},
   "source": [
    "# Question 1"
   ]
  },
  {
   "cell_type": "markdown",
   "metadata": {},
   "source": [
    "**Explain how you solve the model**"
   ]
  },
  {
   "cell_type": "code",
   "execution_count": 31,
   "metadata": {},
   "outputs": [
    {
     "name": "stdout",
     "output_type": "stream",
     "text": [
      "The change of HF and HM depending on different alphas and sigmas \n",
      "\n"
     ]
    },
    {
     "name": "stderr",
     "output_type": "stream",
     "text": [
      "/Users/esbenstein/Desktop/University of Copenhagen/Python/projects-2023-mes-1/inauguralproject/inauguralproject.py:80: RuntimeWarning: divide by zero encountered in reciprocal\n",
      "  H = ((1-par.alpha)*HM**((par.sigma-1)/par.sigma)+par.alpha*HF**((par.sigma-1)/par.sigma))**(par.sigma/(par.sigma-1))\n",
      "/Users/esbenstein/Desktop/University of Copenhagen/Python/projects-2023-mes-1/inauguralproject/inauguralproject.py:80: RuntimeWarning: invalid value encountered in reciprocal\n",
      "  H = ((1-par.alpha)*HM**((par.sigma-1)/par.sigma)+par.alpha*HF**((par.sigma-1)/par.sigma))**(par.sigma/(par.sigma-1))\n",
      "/Users/esbenstein/Desktop/University of Copenhagen/Python/projects-2023-mes-1/inauguralproject/inauguralproject.py:85: RuntimeWarning: invalid value encountered in reciprocal\n",
      "  utility = np.fmax(Q,1e-8)**(1-par.rho)/(1-par.rho)\n"
     ]
    },
    {
     "name": "stdout",
     "output_type": "stream",
     "text": [
      "alpha=0.25, sigma=0.50  -->  HF=3.00, HM=5.50  -->  HF/HM=0.55\n",
      "alpha=0.50, sigma=0.50  -->  HF=4.50, HM=4.50  -->  HF/HM=1.00\n",
      "alpha=0.75, sigma=0.50  -->  HF=5.50, HM=3.00  -->  HF/HM=1.83\n",
      "alpha=0.25, sigma=1.00  -->  HF=2.00, HM=6.50  -->  HF/HM=0.31\n",
      "alpha=0.50, sigma=1.00  -->  HF=4.50, HM=4.50  -->  HF/HM=1.00\n",
      "alpha=0.75, sigma=1.00  -->  HF=6.50, HM=2.00  -->  HF/HM=3.25\n",
      "alpha=0.25, sigma=1.50  -->  HF=1.50, HM=7.00  -->  HF/HM=0.21\n",
      "alpha=0.50, sigma=1.50  -->  HF=4.50, HM=4.50  -->  HF/HM=1.00\n",
      "alpha=0.75, sigma=1.50  -->  HF=7.00, HM=1.50  -->  HF/HM=4.67\n",
      "\n",
      " \n",
      " The illustration of the Ratio \n",
      "\n",
      "╒═════╤══════════╤═══════╤═════════╕\n",
      "│     │     0.25 │   0.5 │    0.75 │\n",
      "╞═════╪══════════╪═══════╪═════════╡\n",
      "│ 0.5 │ 0.545455 │     1 │ 1.83333 │\n",
      "├─────┼──────────┼───────┼─────────┤\n",
      "│ 1   │ 0.307692 │     1 │ 3.25    │\n",
      "├─────┼──────────┼───────┼─────────┤\n",
      "│ 1.5 │ 0.214286 │     1 │ 4.66667 │\n",
      "╘═════╧══════════╧═══════╧═════════╛\n"
     ]
    }
   ],
   "source": [
    "# code for solving the model (remember documentation and comments)\n",
    "\n",
    "model = HouseholdSpecializationModelClass()\n",
    "\n",
    "# Ecercise 1\n",
    "\n",
    "a = [0.25, 0.50, 0.75]\n",
    "s = [0.50, 1.0, 1.5]\n",
    "\n",
    "print('The change of HF and HM depending on different alphas and sigmas', '\\n')\n",
    "\n",
    "for i in s:\n",
    "    model.par.sigma = i\n",
    "    for j in a:\n",
    "        model.par.alpha = j\n",
    "        opt = model.solve_discrete()\n",
    "        HF = opt.HF\n",
    "        HM = opt.HM\n",
    "        HFdividedHM = opt.HF/opt.HM\n",
    "\n",
    "        print(f\"alpha={j:.2f}, sigma={i:.2f}  -->  HF={HF:.2f}, HM={HM:.2f}  -->  HF/HM={HFdividedHM:.2f}\")\n",
    "\n",
    " \n",
    "from tabulate import tabulate \n",
    "\n",
    "info = {\n",
    "    '0.25': [3/5.5, 2/6.5, 1.5/7],\n",
    "    '0.5' : [1, 1, 1],\n",
    "    '0.75': [5.5/3, 6.5/2, 7/1.5]\n",
    "}\n",
    "\n",
    "print('\\n', '\\n', 'The illustration of the Ratio', '\\n')\n",
    "\n",
    "print(tabulate(info, headers = 'keys', tablefmt='fancy_grid', showindex=(0.5,1,1.5)))\n",
    "\n",
    "\n"
   ]
  },
  {
   "cell_type": "markdown",
   "metadata": {},
   "source": [
    "# Question 2"
   ]
  },
  {
   "cell_type": "markdown",
   "metadata": {},
   "source": [
    "Explain your code and procedure"
   ]
  },
  {
   "cell_type": "code",
   "execution_count": 27,
   "metadata": {},
   "outputs": [
    {
     "name": "stdout",
     "output_type": "stream",
     "text": [
      "Kurpark_h: [0.22314355131420976, 0.0, 0.0, -0.11778303565638351, -0.2231435513142097]\n",
      "BWK_w: [-0.2231435513142097, -0.10536051565782628, 0.0, 0.09531017980432493, 0.1823215567939546]\n"
     ]
    },
    {
     "data": {
      "image/png": "[encoded data removed]",
      "text/plain": [
       "<Figure size 640x480 with 1 Axes>"
      ]
     },
     "metadata": {},
     "output_type": "display_data"
    }
   ],
   "source": [
    "# code\n",
    "\n",
    "import math\n",
    "from matplotlib import pyplot as plt\n",
    "\n",
    "model = HouseholdSpecializationModelClass()\n",
    "\n",
    "w = [0.8, 0.9, 1, 1.1, 1.2]\n",
    "Kurpark_h = []\n",
    "\n",
    "for i in w:\n",
    "    model.par.wF = i\n",
    "    justus = model.solve_discrete()\n",
    "    HF = justus.HF\n",
    "    HM = justus.HM\n",
    "    Kurpark_h.append(math.log(HF/HM))\n",
    "\n",
    "BWK_w = []\n",
    "\n",
    "for j in w:\n",
    "    BWK_w.append(math.log(j/1))\n",
    "\n",
    "print(\"Kurpark_h:\", Kurpark_h)\n",
    "print (\"BWK_w:\", BWK_w)\n",
    "\n",
    "\n",
    "plt.scatter(Kurpark_h, BWK_w)\n",
    "plt.ylabel(\"log(WF/WM)\")\n",
    "plt.xlabel(\"log(HF/HM)\")\n",
    "plt.show()\n",
    "\n",
    "\n",
    "    "
   ]
  },
  {
   "cell_type": "markdown",
   "metadata": {},
   "source": [
    "# Question 3"
   ]
  },
  {
   "cell_type": "markdown",
   "metadata": {},
   "source": [
    "Explain your code and procedure"
   ]
  },
  {
   "cell_type": "code",
   "execution_count": 38,
   "metadata": {},
   "outputs": [
    {
     "data": {
      "text/plain": [
       "namespace(LM=4.454526956737588,\n",
       "          HM=4.454486385710032,\n",
       "          LF=4.454479205529973,\n",
       "          HF=4.454493213890576)"
      ]
     },
     "execution_count": 38,
     "metadata": {},
     "output_type": "execute_result"
    }
   ],
   "source": [
    "model = HouseholdSpecializationModelClass()\n",
    "\n",
    "model.solve_continuously()\n"
   ]
  },
  {
   "cell_type": "code",
   "execution_count": 39,
   "metadata": {},
   "outputs": [
    {
     "name": "stdout",
     "output_type": "stream",
     "text": [
      "Kurpark_h: [0.22314768475287364, 0.10536613895346768, 1.5328760083307037e-06, -0.5492980754247977, -0.5493035378995874]\n",
      "BWK_w: [-0.2231435513142097, -0.10536051565782628, 0.0, 0.09531017980432493, 0.1823215567939546]\n"
     ]
    },
    {
     "data": {
      "image/png": "[encoded data removed]",
      "text/plain": [
       "<Figure size 640x480 with 1 Axes>"
      ]
     },
     "metadata": {},
     "output_type": "display_data"
    }
   ],
   "source": [
    "import math\n",
    "from matplotlib import pyplot as plt\n",
    "\n",
    "model = HouseholdSpecializationModelClass()\n",
    "\n",
    "w = [0.8, 0.9, 1, 1.1, 1.2]\n",
    "Kurpark_h = []\n",
    "\n",
    "for i in w:\n",
    "    model.par.wF = i\n",
    "    justus = model.solve_continuously()\n",
    "    HF = justus.HF\n",
    "    HM = justus.HM\n",
    "    Kurpark_h.append(math.log(HF/HM))\n",
    "\n",
    "BWK_w = []\n",
    "\n",
    "for j in w:\n",
    "    BWK_w.append(math.log(j/1))\n",
    "\n",
    "print(\"Kurpark_h:\", Kurpark_h)\n",
    "print (\"BWK_w:\", BWK_w)\n",
    "\n",
    "\n",
    "plt.scatter(Kurpark_h, BWK_w)\n",
    "plt.ylabel(\"log(WF/WM)\")\n",
    "plt.xlabel(\"log(HF/HM)\")\n",
    "plt.show()"
   ]
  },
  {
   "cell_type": "markdown",
   "metadata": {},
   "source": [
    "ADD CONCISE CONLUSION."
   ]
  }
 ],
 "metadata": {
  "kernelspec": {
   "display_name": "base",
   "language": "python",
   "name": "python3"
  },
  "language_info": {
   "codemirror_mode": {
    "name": "ipython",
    "version": 3
   },
   "file_extension": ".py",
   "mimetype": "text/x-python",
   "name": "python",
   "nbconvert_exporter": "python",
   "pygments_lexer": "ipython3",
   "version": "3.9.13"
  },
  "toc-autonumbering": true,
  "vscode": {
   "interpreter": {
    "hash": "7db7b69fde20000a56018626e4abdffb71e8631d10a662cce493615e971806dc"
   }
  }
 },
 "nbformat": 4,
 "nbformat_minor": 4
}
